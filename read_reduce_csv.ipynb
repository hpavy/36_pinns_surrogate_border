{
 "cells": [
  {
   "cell_type": "code",
   "execution_count": 4,
   "metadata": {},
   "outputs": [],
   "source": [
    "import pandas as pd\n",
    "import os "
   ]
  },
  {
   "cell_type": "code",
   "execution_count": 5,
   "metadata": {},
   "outputs": [],
   "source": [
    "hyper_param = {\n",
    "    \"H\": [\n",
    "        230.67,\n",
    "    ],\n",
    "    \"ya0\": [\n",
    "        0.00875,\n",
    "    ],\n",
    "    \"m\": 1.57,\n",
    "    \"file\": [\n",
    "        \"data_john_9_case_2.csv\",\n",
    "    ],\n",
    "    \"nb_epoch\": 1000,\n",
    "    \"save_rate\": 20,\n",
    "    \"dynamic_weights\": False,\n",
    "    \"lr_weights\": 0.1,\n",
    "    \"weight_data\": 0.33,\n",
    "    \"weight_pde\": 0.33,\n",
    "    \"weight_border\": 0.33,\n",
    "    \"batch_size\": 10000,\n",
    "    \"nb_points_pde\": 1000000,\n",
    "    \"Re\": 100,\n",
    "    \"lr_init\": 3e-4,\n",
    "    \"gamma_scheduler\": 0.999,\n",
    "    \"nb_layers\": 10,\n",
    "    \"nb_neurons\": 64,\n",
    "    \"n_pde_test\": 5000,\n",
    "    \"n_data_test\": 5000,\n",
    "    \"nb_points\": 144,\n",
    "    \"x_min\": -0.1,\n",
    "    \"x_max\": 0.1,\n",
    "    \"y_min\": -0.1,\n",
    "    \"y_max\": 0.1,\n",
    "    \"t_min\": 6.5,\n",
    "    \"nb_period\": 40,\n",
    "    \"nb_period_plot\": 2,\n",
    "    \"nb_points_close_cylinder\": 1,\n",
    "    \"rayon_close_cylinder\": 0.035,\n",
    "    \"force_inertie_bool\": True\n",
    "}\n",
    "\n"
   ]
  },
  {
   "cell_type": "code",
   "execution_count": 6,
   "metadata": {},
   "outputs": [],
   "source": [
    "names = [f\"data_john_{k}_case_1.csv\" for k in range(1,19)]\n",
    "names += [f\"data_john_{k}_case_2.csv\" for k in range(1,19)]"
   ]
  },
  {
   "cell_type": "code",
   "execution_count": 7,
   "metadata": {},
   "outputs": [],
   "source": [
    "names = [f\"data_john_{k}_case_1.csv\" for k in [1]]"
   ]
  },
  {
   "cell_type": "code",
   "execution_count": 8,
   "metadata": {},
   "outputs": [],
   "source": [
    "names = ['model_1_case_1.csv']"
   ]
  },
  {
   "cell_type": "code",
   "execution_count": 9,
   "metadata": {},
   "outputs": [],
   "source": [
    "x_min = -0.1\n",
    "x_max = 0.1\n",
    "y_min = -0.1\n",
    "y_max = 0.1\n",
    "t_min = 6.\n",
    "t_max = 12."
   ]
  },
  {
   "cell_type": "code",
   "execution_count": 12,
   "metadata": {},
   "outputs": [
    {
     "name": "stdout",
     "output_type": "stream",
     "text": [
      "model_1_case_1.csv\n",
      "`s3/hugopavy/model_1_case_1_border.csv` -> `data/model_1_case_1_border.csv`\n",
      "┌───────────┬─────────────┬──────────┬─────────────┐\n",
      "│ Total     │ Transferred │ Duration │ Speed       │\n",
      "│ 17.88 MiB │ 17.88 MiB   │ 00m00s   │ 60.04 MiB/s │\n",
      "└───────────┴─────────────┴──────────┴─────────────┘\n",
      "`s3/hugopavy/model_1_case_1.csv` -> `data/model_1_case_1.csv`\n",
      "┌──────────┬─────────────┬──────────┬──────────────┐\n",
      "│ Total    │ Transferred │ Duration │ Speed        │\n",
      "│ 1.19 GiB │ 1.19 GiB    │ 00m07s   │ 164.55 MiB/s │\n",
      "└──────────┴─────────────┴──────────┴──────────────┘\n"
     ]
    }
   ],
   "source": [
    "for file in names :\n",
    "    print(file)\n",
    "    os.system(f'mc cp -r s3/hugopavy/{file[:-4]}_border.csv ./data/.')\n",
    "    os.system(f'mc cp -r s3/hugopavy/{file} ./data/.')\n",
    "    df = pd.read_csv('data/'+ file)\n",
    "    df_modified = df.loc[\n",
    "            (df[\"Points:0\"] >= x_min)\n",
    "            & (df[\"Points:0\"] <= x_max)\n",
    "            & (df[\"Points:1\"] >= y_min)\n",
    "            & (df[\"Points:1\"] <= y_max)\n",
    "            & (df[\"Time\"] > t_min)\n",
    "            & (df[\"Time\"] < t_max)\n",
    "            & (df[\"Points:2\"] == 0.0)\n",
    "            , :,\n",
    "        ].copy()\n",
    "    df_modified.to_csv('data/'+file, index=False)"
   ]
  },
  {
   "cell_type": "code",
   "execution_count": 3,
   "metadata": {},
   "outputs": [],
   "source": [
    "file = \"data_john_4_case_1.csv\""
   ]
  },
  {
   "cell_type": "code",
   "execution_count": 4,
   "metadata": {},
   "outputs": [
    {
     "name": "stderr",
     "output_type": "stream",
     "text": [
      "mc: <ERROR> Unable to prepare URL for copying. Unable to guess the type of copy operation.\n"
     ]
    },
    {
     "data": {
      "text/plain": [
       "256"
      ]
     },
     "execution_count": 4,
     "metadata": {},
     "output_type": "execute_result"
    }
   ],
   "source": [
    "os.system(f'mc cp -r s3/fhd/{file} ./data/.')"
   ]
  },
  {
   "cell_type": "code",
   "execution_count": 9,
   "metadata": {},
   "outputs": [
    {
     "ename": "NameError",
     "evalue": "name 't_max' is not defined",
     "output_type": "error",
     "traceback": [
      "\u001b[0;31m---------------------------------------------------------------------------\u001b[0m",
      "\u001b[0;31mNameError\u001b[0m                                 Traceback (most recent call last)",
      "Cell \u001b[0;32mIn[9], line 1\u001b[0m\n\u001b[0;32m----> 1\u001b[0m \u001b[43mt_max\u001b[49m\n",
      "\u001b[0;31mNameError\u001b[0m: name 't_max' is not defined"
     ]
    }
   ],
   "source": [
    "t_max"
   ]
  },
  {
   "cell_type": "code",
   "execution_count": null,
   "metadata": {},
   "outputs": [],
   "source": []
  }
 ],
 "metadata": {
  "kernelspec": {
   "display_name": "base",
   "language": "python",
   "name": "python3"
  },
  "language_info": {
   "codemirror_mode": {
    "name": "ipython",
    "version": 3
   },
   "file_extension": ".py",
   "mimetype": "text/x-python",
   "name": "python",
   "nbconvert_exporter": "python",
   "pygments_lexer": "ipython3",
   "version": "3.12.7"
  }
 },
 "nbformat": 4,
 "nbformat_minor": 2
}
