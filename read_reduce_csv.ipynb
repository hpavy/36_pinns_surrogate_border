{
 "cells": [
  {
   "cell_type": "code",
   "execution_count": 1,
   "metadata": {},
   "outputs": [],
   "source": [
    "import pandas as pd\n",
    "import os "
   ]
  },
  {
   "cell_type": "code",
   "execution_count": 2,
   "metadata": {},
   "outputs": [],
   "source": [
    "hyper_param = {\n",
    "    \"H\": [\n",
    "        230.67,\n",
    "    ],\n",
    "    \"ya0\": [\n",
    "        0.00875,\n",
    "    ],\n",
    "    \"m\": 1.57,\n",
    "    \"file\": [\n",
    "        \"data_john_9_case_2.csv\",\n",
    "    ],\n",
    "    \"nb_epoch\": 1000,\n",
    "    \"save_rate\": 20,\n",
    "    \"dynamic_weights\": False,\n",
    "    \"lr_weights\": 0.1,\n",
    "    \"weight_data\": 0.33,\n",
    "    \"weight_pde\": 0.33,\n",
    "    \"weight_border\": 0.33,\n",
    "    \"batch_size\": 10000,\n",
    "    \"nb_points_pde\": 1000000,\n",
    "    \"Re\": 100,\n",
    "    \"lr_init\": 3e-4,\n",
    "    \"gamma_scheduler\": 0.999,\n",
    "    \"nb_layers\": 10,\n",
    "    \"nb_neurons\": 64,\n",
    "    \"n_pde_test\": 5000,\n",
    "    \"n_data_test\": 5000,\n",
    "    \"nb_points\": 144,\n",
    "    \"x_min\": -0.1,\n",
    "    \"x_max\": 0.1,\n",
    "    \"y_min\": -0.1,\n",
    "    \"y_max\": 0.1,\n",
    "    \"t_min\": 6.5,\n",
    "    \"nb_period\": 40,\n",
    "    \"nb_period_plot\": 2,\n",
    "    \"nb_points_close_cylinder\": 1,\n",
    "    \"rayon_close_cylinder\": 0.035,\n",
    "    \"force_inertie_bool\": True\n",
    "}\n",
    "\n"
   ]
  },
  {
   "cell_type": "code",
   "execution_count": 3,
   "metadata": {},
   "outputs": [],
   "source": [
    "names = [f\"model_{k}_case_1.csv\" for k in range(1,19)]\n",
    "names += [f\"model_{k}_case_2.csv\" for k in range(1,19)]"
   ]
  },
  {
   "cell_type": "code",
   "execution_count": 4,
   "metadata": {},
   "outputs": [],
   "source": [
    "x_min = -0.1\n",
    "x_max = 0.1\n",
    "y_min = -0.1\n",
    "y_max = 0.1\n",
    "t_min = 6.\n",
    "t_max = 12."
   ]
  },
  {
   "cell_type": "code",
   "execution_count": 5,
   "metadata": {},
   "outputs": [
    {
     "name": "stdout",
     "output_type": "stream",
     "text": [
      "model_1_case_1.csv\n",
      "`s3/hugopavy/model_1_case_1_border.csv` -> `data/model_1_case_1_border.csv`\n",
      "Total: 17.88 MiB, Transferred: 17.88 MiB, Speed: 49.77 MiB/s\n",
      "`s3/hugopavy/model_1_case_1.csv` -> `data/model_1_case_1.csv`\n",
      "Total: 1.19 GiB, Transferred: 1.19 GiB, Speed: 129.20 MiB/s\n",
      "model_2_case_1.csv\n",
      "`s3/hugopavy/model_2_case_1_border.csv` -> `data/model_2_case_1_border.csv`\n",
      "Total: 17.88 MiB, Transferred: 17.88 MiB, Speed: 43.98 MiB/s\n",
      "`s3/hugopavy/model_2_case_1.csv` -> `data/model_2_case_1.csv`\n",
      "Total: 1.19 GiB, Transferred: 1.19 GiB, Speed: 115.26 MiB/s\n",
      "model_3_case_1.csv\n",
      "`s3/hugopavy/model_3_case_1_border.csv` -> `data/model_3_case_1_border.csv`\n",
      "Total: 17.88 MiB, Transferred: 17.88 MiB, Speed: 36.34 MiB/s\n",
      "`s3/hugopavy/model_3_case_1.csv` -> `data/model_3_case_1.csv`\n",
      "Total: 1.19 GiB, Transferred: 1.19 GiB, Speed: 120.14 MiB/s\n",
      "model_4_case_1.csv\n",
      "`s3/hugopavy/model_4_case_1_border.csv` -> `data/model_4_case_1_border.csv`\n",
      "Total: 17.88 MiB, Transferred: 17.88 MiB, Speed: 32.85 MiB/s\n",
      "`s3/hugopavy/model_4_case_1.csv` -> `data/model_4_case_1.csv`\n",
      "Total: 1.19 GiB, Transferred: 1.19 GiB, Speed: 118.22 MiB/s\n",
      "model_5_case_1.csv\n",
      "`s3/hugopavy/model_5_case_1_border.csv` -> `data/model_5_case_1_border.csv`\n",
      "Total: 17.88 MiB, Transferred: 17.88 MiB, Speed: 48.42 MiB/s\n",
      "`s3/hugopavy/model_5_case_1.csv` -> `data/model_5_case_1.csv`\n",
      "Total: 1.19 GiB, Transferred: 1.19 GiB, Speed: 115.84 MiB/s\n",
      "model_6_case_1.csv\n",
      "`s3/hugopavy/model_6_case_1_border.csv` -> `data/model_6_case_1_border.csv`\n",
      "Total: 17.88 MiB, Transferred: 17.88 MiB, Speed: 53.33 MiB/s\n",
      "`s3/hugopavy/model_6_case_1.csv` -> `data/model_6_case_1.csv`\n",
      "Total: 1.17 GiB, Transferred: 1.17 GiB, Speed: 136.75 MiB/s\n"
     ]
    },
    {
     "ename": "ParserError",
     "evalue": "Error tokenizing data. C error: Expected 8 fields in line 8443902, saw 12\n",
     "output_type": "error",
     "traceback": [
      "\u001b[0;31m---------------------------------------------------------------------------\u001b[0m",
      "\u001b[0;31mParserError\u001b[0m                               Traceback (most recent call last)",
      "Cell \u001b[0;32mIn[5], line 5\u001b[0m\n\u001b[1;32m      3\u001b[0m os\u001b[38;5;241m.\u001b[39msystem(\u001b[38;5;124mf\u001b[39m\u001b[38;5;124m'\u001b[39m\u001b[38;5;124mmc cp -r s3/hugopavy/\u001b[39m\u001b[38;5;132;01m{\u001b[39;00mfile[:\u001b[38;5;241m-\u001b[39m\u001b[38;5;241m4\u001b[39m]\u001b[38;5;132;01m}\u001b[39;00m\u001b[38;5;124m_border.csv ./data/.\u001b[39m\u001b[38;5;124m'\u001b[39m)\n\u001b[1;32m      4\u001b[0m os\u001b[38;5;241m.\u001b[39msystem(\u001b[38;5;124mf\u001b[39m\u001b[38;5;124m'\u001b[39m\u001b[38;5;124mmc cp -r s3/hugopavy/\u001b[39m\u001b[38;5;132;01m{\u001b[39;00mfile\u001b[38;5;132;01m}\u001b[39;00m\u001b[38;5;124m ./data/.\u001b[39m\u001b[38;5;124m'\u001b[39m)\n\u001b[0;32m----> 5\u001b[0m df \u001b[38;5;241m=\u001b[39m \u001b[43mpd\u001b[49m\u001b[38;5;241;43m.\u001b[39;49m\u001b[43mread_csv\u001b[49m\u001b[43m(\u001b[49m\u001b[38;5;124;43m'\u001b[39;49m\u001b[38;5;124;43mdata/\u001b[39;49m\u001b[38;5;124;43m'\u001b[39;49m\u001b[38;5;241;43m+\u001b[39;49m\u001b[43m \u001b[49m\u001b[43mfile\u001b[49m\u001b[43m)\u001b[49m\n\u001b[1;32m      6\u001b[0m df_modified \u001b[38;5;241m=\u001b[39m df\u001b[38;5;241m.\u001b[39mloc[\n\u001b[1;32m      7\u001b[0m         (df[\u001b[38;5;124m\"\u001b[39m\u001b[38;5;124mPoints:0\u001b[39m\u001b[38;5;124m\"\u001b[39m] \u001b[38;5;241m>\u001b[39m\u001b[38;5;241m=\u001b[39m x_min)\n\u001b[1;32m      8\u001b[0m         \u001b[38;5;241m&\u001b[39m (df[\u001b[38;5;124m\"\u001b[39m\u001b[38;5;124mPoints:0\u001b[39m\u001b[38;5;124m\"\u001b[39m] \u001b[38;5;241m<\u001b[39m\u001b[38;5;241m=\u001b[39m x_max)\n\u001b[0;32m   (...)\u001b[0m\n\u001b[1;32m     14\u001b[0m         , :,\n\u001b[1;32m     15\u001b[0m     ]\u001b[38;5;241m.\u001b[39mcopy()\n\u001b[1;32m     16\u001b[0m df_modified\u001b[38;5;241m.\u001b[39mto_csv(\u001b[38;5;124m'\u001b[39m\u001b[38;5;124mdata/\u001b[39m\u001b[38;5;124m'\u001b[39m\u001b[38;5;241m+\u001b[39mfile, index\u001b[38;5;241m=\u001b[39m\u001b[38;5;28;01mFalse\u001b[39;00m)\n",
      "File \u001b[0;32m/opt/conda/lib/python3.12/site-packages/pandas/io/parsers/readers.py:1026\u001b[0m, in \u001b[0;36mread_csv\u001b[0;34m(filepath_or_buffer, sep, delimiter, header, names, index_col, usecols, dtype, engine, converters, true_values, false_values, skipinitialspace, skiprows, skipfooter, nrows, na_values, keep_default_na, na_filter, verbose, skip_blank_lines, parse_dates, infer_datetime_format, keep_date_col, date_parser, date_format, dayfirst, cache_dates, iterator, chunksize, compression, thousands, decimal, lineterminator, quotechar, quoting, doublequote, escapechar, comment, encoding, encoding_errors, dialect, on_bad_lines, delim_whitespace, low_memory, memory_map, float_precision, storage_options, dtype_backend)\u001b[0m\n\u001b[1;32m   1013\u001b[0m kwds_defaults \u001b[38;5;241m=\u001b[39m _refine_defaults_read(\n\u001b[1;32m   1014\u001b[0m     dialect,\n\u001b[1;32m   1015\u001b[0m     delimiter,\n\u001b[0;32m   (...)\u001b[0m\n\u001b[1;32m   1022\u001b[0m     dtype_backend\u001b[38;5;241m=\u001b[39mdtype_backend,\n\u001b[1;32m   1023\u001b[0m )\n\u001b[1;32m   1024\u001b[0m kwds\u001b[38;5;241m.\u001b[39mupdate(kwds_defaults)\n\u001b[0;32m-> 1026\u001b[0m \u001b[38;5;28;01mreturn\u001b[39;00m \u001b[43m_read\u001b[49m\u001b[43m(\u001b[49m\u001b[43mfilepath_or_buffer\u001b[49m\u001b[43m,\u001b[49m\u001b[43m \u001b[49m\u001b[43mkwds\u001b[49m\u001b[43m)\u001b[49m\n",
      "File \u001b[0;32m/opt/conda/lib/python3.12/site-packages/pandas/io/parsers/readers.py:626\u001b[0m, in \u001b[0;36m_read\u001b[0;34m(filepath_or_buffer, kwds)\u001b[0m\n\u001b[1;32m    623\u001b[0m     \u001b[38;5;28;01mreturn\u001b[39;00m parser\n\u001b[1;32m    625\u001b[0m \u001b[38;5;28;01mwith\u001b[39;00m parser:\n\u001b[0;32m--> 626\u001b[0m     \u001b[38;5;28;01mreturn\u001b[39;00m \u001b[43mparser\u001b[49m\u001b[38;5;241;43m.\u001b[39;49m\u001b[43mread\u001b[49m\u001b[43m(\u001b[49m\u001b[43mnrows\u001b[49m\u001b[43m)\u001b[49m\n",
      "File \u001b[0;32m/opt/conda/lib/python3.12/site-packages/pandas/io/parsers/readers.py:1923\u001b[0m, in \u001b[0;36mTextFileReader.read\u001b[0;34m(self, nrows)\u001b[0m\n\u001b[1;32m   1916\u001b[0m nrows \u001b[38;5;241m=\u001b[39m validate_integer(\u001b[38;5;124m\"\u001b[39m\u001b[38;5;124mnrows\u001b[39m\u001b[38;5;124m\"\u001b[39m, nrows)\n\u001b[1;32m   1917\u001b[0m \u001b[38;5;28;01mtry\u001b[39;00m:\n\u001b[1;32m   1918\u001b[0m     \u001b[38;5;66;03m# error: \"ParserBase\" has no attribute \"read\"\u001b[39;00m\n\u001b[1;32m   1919\u001b[0m     (\n\u001b[1;32m   1920\u001b[0m         index,\n\u001b[1;32m   1921\u001b[0m         columns,\n\u001b[1;32m   1922\u001b[0m         col_dict,\n\u001b[0;32m-> 1923\u001b[0m     ) \u001b[38;5;241m=\u001b[39m \u001b[38;5;28;43mself\u001b[39;49m\u001b[38;5;241;43m.\u001b[39;49m\u001b[43m_engine\u001b[49m\u001b[38;5;241;43m.\u001b[39;49m\u001b[43mread\u001b[49m\u001b[43m(\u001b[49m\u001b[43m  \u001b[49m\u001b[38;5;66;43;03m# type: ignore[attr-defined]\u001b[39;49;00m\n\u001b[1;32m   1924\u001b[0m \u001b[43m        \u001b[49m\u001b[43mnrows\u001b[49m\n\u001b[1;32m   1925\u001b[0m \u001b[43m    \u001b[49m\u001b[43m)\u001b[49m\n\u001b[1;32m   1926\u001b[0m \u001b[38;5;28;01mexcept\u001b[39;00m \u001b[38;5;167;01mException\u001b[39;00m:\n\u001b[1;32m   1927\u001b[0m     \u001b[38;5;28mself\u001b[39m\u001b[38;5;241m.\u001b[39mclose()\n",
      "File \u001b[0;32m/opt/conda/lib/python3.12/site-packages/pandas/io/parsers/c_parser_wrapper.py:234\u001b[0m, in \u001b[0;36mCParserWrapper.read\u001b[0;34m(self, nrows)\u001b[0m\n\u001b[1;32m    232\u001b[0m \u001b[38;5;28;01mtry\u001b[39;00m:\n\u001b[1;32m    233\u001b[0m     \u001b[38;5;28;01mif\u001b[39;00m \u001b[38;5;28mself\u001b[39m\u001b[38;5;241m.\u001b[39mlow_memory:\n\u001b[0;32m--> 234\u001b[0m         chunks \u001b[38;5;241m=\u001b[39m \u001b[38;5;28;43mself\u001b[39;49m\u001b[38;5;241;43m.\u001b[39;49m\u001b[43m_reader\u001b[49m\u001b[38;5;241;43m.\u001b[39;49m\u001b[43mread_low_memory\u001b[49m\u001b[43m(\u001b[49m\u001b[43mnrows\u001b[49m\u001b[43m)\u001b[49m\n\u001b[1;32m    235\u001b[0m         \u001b[38;5;66;03m# destructive to chunks\u001b[39;00m\n\u001b[1;32m    236\u001b[0m         data \u001b[38;5;241m=\u001b[39m _concatenate_chunks(chunks)\n",
      "File \u001b[0;32mparsers.pyx:838\u001b[0m, in \u001b[0;36mpandas._libs.parsers.TextReader.read_low_memory\u001b[0;34m()\u001b[0m\n",
      "File \u001b[0;32mparsers.pyx:905\u001b[0m, in \u001b[0;36mpandas._libs.parsers.TextReader._read_rows\u001b[0;34m()\u001b[0m\n",
      "File \u001b[0;32mparsers.pyx:874\u001b[0m, in \u001b[0;36mpandas._libs.parsers.TextReader._tokenize_rows\u001b[0;34m()\u001b[0m\n",
      "File \u001b[0;32mparsers.pyx:891\u001b[0m, in \u001b[0;36mpandas._libs.parsers.TextReader._check_tokenize_status\u001b[0;34m()\u001b[0m\n",
      "File \u001b[0;32mparsers.pyx:2061\u001b[0m, in \u001b[0;36mpandas._libs.parsers.raise_parser_error\u001b[0;34m()\u001b[0m\n",
      "\u001b[0;31mParserError\u001b[0m: Error tokenizing data. C error: Expected 8 fields in line 8443902, saw 12\n"
     ]
    }
   ],
   "source": [
    "for file in names :\n",
    "    print(file)\n",
    "    os.system(f'mc cp -r s3/hugopavy/{file[:-4]}_border.csv ./data/.')\n",
    "    os.system(f'mc cp -r s3/hugopavy/{file} ./data/.')\n",
    "    df = pd.read_csv('data/'+ file)\n",
    "    df_modified = df.loc[\n",
    "            (df[\"Points:0\"] >= x_min)\n",
    "            & (df[\"Points:0\"] <= x_max)\n",
    "            & (df[\"Points:1\"] >= y_min)\n",
    "            & (df[\"Points:1\"] <= y_max)\n",
    "            & (df[\"Time\"] > t_min)\n",
    "            & (df[\"Time\"] < t_max)\n",
    "            & (df[\"Points:2\"] == 0.0)\n",
    "            , :,\n",
    "        ].copy()\n",
    "    df_modified.to_csv('data/'+file, index=False)"
   ]
  },
  {
   "cell_type": "code",
   "execution_count": 3,
   "metadata": {},
   "outputs": [],
   "source": [
    "file = \"data_john_4_case_1.csv\""
   ]
  },
  {
   "cell_type": "code",
   "execution_count": 4,
   "metadata": {},
   "outputs": [
    {
     "name": "stderr",
     "output_type": "stream",
     "text": [
      "mc: <ERROR> Unable to prepare URL for copying. Unable to guess the type of copy operation.\n"
     ]
    },
    {
     "data": {
      "text/plain": [
       "256"
      ]
     },
     "execution_count": 4,
     "metadata": {},
     "output_type": "execute_result"
    }
   ],
   "source": [
    "os.system(f'mc cp -r s3/fhd/{file} ./data/.')"
   ]
  },
  {
   "cell_type": "code",
   "execution_count": 9,
   "metadata": {},
   "outputs": [
    {
     "ename": "NameError",
     "evalue": "name 't_max' is not defined",
     "output_type": "error",
     "traceback": [
      "\u001b[0;31m---------------------------------------------------------------------------\u001b[0m",
      "\u001b[0;31mNameError\u001b[0m                                 Traceback (most recent call last)",
      "Cell \u001b[0;32mIn[9], line 1\u001b[0m\n\u001b[0;32m----> 1\u001b[0m \u001b[43mt_max\u001b[49m\n",
      "\u001b[0;31mNameError\u001b[0m: name 't_max' is not defined"
     ]
    }
   ],
   "source": [
    "t_max"
   ]
  },
  {
   "cell_type": "code",
   "execution_count": null,
   "metadata": {},
   "outputs": [],
   "source": []
  }
 ],
 "metadata": {
  "kernelspec": {
   "display_name": "base",
   "language": "python",
   "name": "python3"
  },
  "language_info": {
   "codemirror_mode": {
    "name": "ipython",
    "version": 3
   },
   "file_extension": ".py",
   "mimetype": "text/x-python",
   "name": "python",
   "nbconvert_exporter": "python",
   "pygments_lexer": "ipython3",
   "version": "3.12.7"
  }
 },
 "nbformat": 4,
 "nbformat_minor": 2
}
