{
 "cells": [
  {
   "cell_type": "markdown",
   "metadata": {},
   "source": [
    "## On plot les courbes Cl"
   ]
  },
  {
   "cell_type": "code",
   "execution_count": 1,
   "metadata": {},
   "outputs": [],
   "source": [
    "import numpy as np\n",
    "import torch \n",
    "from model import PINNs\n",
    "import pandas as pd\n",
    "from utils import charge_data\n",
    "import json\n",
    "import matplotlib.pyplot as plt\n",
    "from plot_results import  plot_loss_decompose, plot_points, plot_loss\n",
    "from model import PINNs\n",
    "from utils import charge_data\n",
    "import json\n",
    "import torch\n",
    "import matplotlib.pyplot as plt\n",
    "from matplotlib.animation import FuncAnimation\n",
    "import os\n",
    "import numpy as np\n",
    "import time as time\n",
    "import pandas as pd\n",
    "from geometry import RectangleWithoutCylinder"
   ]
  },
  {
   "cell_type": "code",
   "execution_count": 2,
   "metadata": {},
   "outputs": [],
   "source": [
    "folder_name = \"20_new_lr\"\n",
    "epoch = \"epoch400\""
   ]
  },
  {
   "cell_type": "code",
   "execution_count": 2,
   "metadata": {},
   "outputs": [],
   "source": [
    "param_adim = {\"V\": 1.0, \"L\": 0.025, \"rho\": 1.2}"
   ]
  },
  {
   "cell_type": "code",
   "execution_count": 4,
   "metadata": {},
   "outputs": [
    {
     "data": {
      "text/plain": [
       "<All keys matched successfully>"
      ]
     },
     "execution_count": 4,
     "metadata": {},
     "output_type": "execute_result"
    }
   ],
   "source": [
    "with open(\"results/\" + folder_name + \"/hyper_param.json\", \"r\") as file:\n",
    "    hyper_param = json.load(file)\n",
    "model = PINNs(hyper_param)\n",
    "checkpoint = torch.load(\n",
    "    \"results/\" + folder_name + \"/\" + epoch + \"/\" + \"model_weights.pth\",\n",
    "    map_location=torch.device(\"cpu\"),\n",
    ")\n",
    "model.load_state_dict(checkpoint[\"model_state_dict\"])\n"
   ]
  },
  {
   "cell_type": "code",
   "execution_count": 5,
   "metadata": {},
   "outputs": [],
   "source": [
    "with open('results/'+folder_name+'/mean_std.json') as file: \n",
    "    mean_std = json.load(file)"
   ]
  },
  {
   "cell_type": "code",
   "execution_count": 3,
   "metadata": {},
   "outputs": [],
   "source": [
    "def find_cl_data(num, case, time_init, time_max, param_adim, r=0.025/2):\n",
    "    df = pd.read_csv('data/'+ f\"data_john_{num}_case_{case}.csv\")\n",
    "    df_modified = df.loc[\n",
    "            (df[\"Time\"] > time_init)\n",
    "            & (df[\"Time\"] < time_init + 15 * (time_max- time_init))\n",
    "            & (df[\"Points:2\"] == 0.0)\n",
    "            & (df[\"Points:0\"] ** 2 + df[\"Points:1\"] ** 2 < 1.1* (0.025 / 2) ** 2),\n",
    "            :,\n",
    "        ].copy()\n",
    "    X_theta = np.empty((df_modified.shape[0], 3))\n",
    "    X_theta[:, 0] = time_init + ((df_modified['Time'].to_numpy() - time_init) % (time_max- time_init) )    #X_full[masque_theta][:, 2] \n",
    "    X_theta[:, 2] = df_modified['Pressure'].to_numpy()    #U_full[masque_theta][:, 2]\n",
    "    X_theta[:, 1] = np.atan2(df_modified['Points:1'].to_numpy(), df_modified['Points:0'].to_numpy())    #np.atan2(X_full[masque_theta][:, 1] * mean_std['y_std'] + mean_std['y_mean'], X_full[masque_theta][:, 0] * mean_std['x_std'] + mean_std['x_mean'])\n",
    "    portance = np.empty(np.unique(X_theta[:, 0]).shape[0])\n",
    "    for nb, time_ in enumerate(np.unique(X_theta[:, 0])):\n",
    "        masque_time = X_theta[:, 0] == time_\n",
    "        indices = np.argsort(X_theta[masque_time][:, 1])[::-1]\n",
    "        d_theta = X_theta[masque_time][indices][:-1, 1] - X_theta[masque_time][indices][1:, 1]\n",
    "        portance[nb] = -np.sum(X_theta[masque_time][indices][1:, 2] * np.sin(X_theta[masque_time][indices][1:, 1])*d_theta * r)\n",
    "    time_predict = np.unique(X_theta[:, 0])    # (X_full[masque_theta][:, 2].unique()* mean_std['t_std'] + mean_std['t_mean']) * (param_adim['L']/ param_adim['V'])\n",
    "    return time_predict, portance / (0.5 * param_adim['rho'] * param_adim['V']**2 * 2 * r)\n",
    "    "
   ]
  },
  {
   "cell_type": "code",
   "execution_count": 4,
   "metadata": {},
   "outputs": [],
   "source": [
    "def true_cl(num, case, time_init, time_max):\n",
    "    \"\"\"\n",
    "    Args:\n",
    "        num (int): Le numéro du modèle\n",
    "        case (int): Le numéro du case\n",
    "        time_init (float): le temps initial \n",
    "        time_max (float): le temps max\n",
    "\n",
    "\n",
    "    Returns:\n",
    "        time (np.array):  les valeurs de temps\n",
    "        cl (np.array): la valeur de cl à ces temps\n",
    "    \"\"\"\n",
    "    df = pd.read_csv(f'results_Cl/model_{num}_case_{case}/Cl.csv', index_col=False)\n",
    "    df_modified = df[((df.iloc[:, 2] > time_init) & (df.iloc[:, 2] < time_max))]\n",
    "    time = df_modified.iloc[:, 2].to_numpy()\n",
    "    cl = df_modified.iloc[:, 1].to_numpy()\n",
    "    return time, cl\n"
   ]
  },
  {
   "cell_type": "markdown",
   "metadata": {},
   "source": [
    "On a pour la force de portance : \n",
    "\n",
    "$\n",
    "\\overrightarrow{F_p}=-\\int_{\\theta=0}^{2\\pi}(P(\\theta)sin(\\theta)rd\\theta) \\overrightarrow{u_y}\n",
    "$"
   ]
  },
  {
   "cell_type": "code",
   "execution_count": 5,
   "metadata": {},
   "outputs": [],
   "source": [
    "def P(theta, t, ya0, w0, model, param_adim, mean_std, r = 0.025 / 2):\n",
    "    \"\"\"\n",
    "    Args:\n",
    "        theta (torch.tensor): les theta où on veut calculer\n",
    "        t_ad (torch.tensor): Les temps où on veut la pression en theta\n",
    "        ya0 (float) : la valeur d'amplitude pour estimer notre pression\n",
    "        model (torch.model): le NN qui prédit \n",
    "        param_adim (dict): dictionnaire des param d'adim\n",
    "        mean_std (dict): donne de quoi faire la normalisation Z\n",
    "        r (float): le rayon du cylindre\n",
    "\n",
    "    Returns:\n",
    "        P (torch.tensor):  les valeurs de pression sur le cylindre\n",
    "    \"\"\"\n",
    "    x = r * torch.cos(theta)\n",
    "    y = r * torch.sin(theta)\n",
    "    x_ad = ((x / param_adim['L']) - mean_std['x_mean'])/mean_std['x_std']\n",
    "    y_ad = ((y / param_adim['L']) - mean_std['y_mean'])/mean_std['y_std']\n",
    "    t_ad = ((t / (param_adim['L']/param_adim['V'])) - mean_std['t_mean']) / mean_std['t_std']\n",
    "    ya0_ad = torch.ones_like(x_ad) * ((ya0 / param_adim['L']) - mean_std['ya0_mean']) / mean_std['ya0_std']\n",
    "    w0_ad = torch.ones_like(x_ad) * ((w0 / (param_adim['V']/param_adim['L'])) - mean_std['w0_mean']) / mean_std['w0_std']\n",
    "    X = torch.stack((x_ad, y_ad, t_ad, ya0_ad, w0_ad), dim=1)\n",
    "    P_adim = model(X)[:, 2]\n",
    "    P = ((P_adim * mean_std['p_std'] + mean_std['p_mean']))*((param_adim['V']**2)*param_adim['rho'])\n",
    "    return P, x, y"
   ]
  },
  {
   "cell_type": "code",
   "execution_count": 6,
   "metadata": {},
   "outputs": [],
   "source": [
    "def predict_cl(t, ya0, w0,  model, param_adim, mean_std, r=0.025 / 2, nb_disc_theta=500):\n",
    "    \"\"\"\n",
    "    Args:\n",
    "        t_ad (torch.tensor): Les temps où on veut Cl\n",
    "        ya0 (float) : la valeur d'amplitude pour estimer notre Cl\n",
    "        model (torch.model): le NN qui prédit \n",
    "        param_adim (dict): dictionnaire des param d'adim\n",
    "        mean_std (dict): donne de quoi faire la normalisation Z\n",
    "        r (float): le rayon du cylindre\n",
    "        nb_disc_theta(int): sur combien de theta on discrétise\n",
    "\n",
    "    Returns:\n",
    "        Cl (torch.float):  les valeurs de pression sur le cylindre\n",
    "    \"\"\"\n",
    "    time_repeat = torch.repeat_interleave(t, repeats=nb_disc_theta)\n",
    "    d_theta = 2 * torch.pi / nb_disc_theta\n",
    "    theta_int = torch.linspace(0, 2*torch.pi, nb_disc_theta)\n",
    "    theta_tot = theta_int.repeat(t.shape[0])\n",
    "    pressure_tot, x, y = P(theta_tot, time_repeat, ya0, w0, model, param_adim, mean_std, r = 0.025 / 2) # .reshape(t.shape[0], nb_disc_theta) # (t.shape, nb_disc_theta)\n",
    "    pressure_tot = pressure_tot.reshape(t.shape[0], nb_disc_theta)\n",
    "    in_sum = pressure_tot * torch.sin(theta_int) * r * d_theta\n",
    "    portance = - torch.sum(in_sum, dim=1)\n",
    "    return portance/ (0.5 * param_adim['rho'] * param_adim['V']**2 * 2 * r) , x, y"
   ]
  },
  {
   "cell_type": "code",
   "execution_count": 17,
   "metadata": {},
   "outputs": [],
   "source": [
    "ya0_L = [\n",
    "    0.001875,\n",
    "    0.003125,\n",
    "    0.004375,\n",
    "    0.005625,\n",
    "    0.008125,\n",
    "    0.010625,\n",
    "    0.001875,\n",
    "    0.003125,\n",
    "    0.004375,\n",
    "    0.005625,\n",
    "    0.008125,\n",
    "    0.010625,\n",
    "]\n",
    "H_L=[\n",
    "    230.67,\n",
    "    230.67,\n",
    "    230.67,\n",
    "    230.67,\n",
    "    230.67,\n",
    "    230.67,\n",
    "    261.39,\n",
    "    261.39,\n",
    "    261.39,\n",
    "    261.39,\n",
    "    261.39,\n",
    "    261.39,   \n",
    " ]\n",
    "num = [\n",
    "    10, \n",
    "    11, \n",
    "    12, \n",
    "    13,\n",
    "    15, \n",
    "    17,\n",
    "    10, \n",
    "    11, \n",
    "    12, \n",
    "    13,\n",
    "    15, \n",
    "    17,\n",
    "]\n",
    "\n",
    "case = [\n",
    "    2,\n",
    "    2,\n",
    "    2,\n",
    "    2,\n",
    "    2,\n",
    "    2,\n",
    "    1,\n",
    "    1,\n",
    "    1,\n",
    "    1,\n",
    "    1,\n",
    "    1,\n",
    "]\n",
    "\n",
    "files = [f'data_john_{num[k]}_case_{case[k]}.csv' for k in range(len(num))]"
   ]
  },
  {
   "cell_type": "code",
   "execution_count": null,
   "metadata": {},
   "outputs": [],
   "source": [
    "hyper_param = {\n",
    "    \n",
    "}"
   ]
  },
  {
   "cell_type": "code",
   "execution_count": null,
   "metadata": {},
   "outputs": [],
   "source": []
  },
  {
   "cell_type": "code",
   "execution_count": 18,
   "metadata": {},
   "outputs": [],
   "source": [
    "hyper_param = {\n",
    "    'm':1.57, \n",
    "    't_min': 6.\n",
    "}"
   ]
  },
  {
   "cell_type": "code",
   "execution_count": 19,
   "metadata": {},
   "outputs": [],
   "source": [
    "ya0_L = [0.01]      #hyper_param['ya0']\n",
    "H_L=  [261.39]     # hyper_param['H']\n",
    "num = [\n",
    "    1\n",
    "]\n",
    "\n",
    "case = [\n",
    "    1,\n",
    "]\n",
    "\n",
    "files = ['data_john_1_case_1.csv']      #hyper_param['file']"
   ]
  },
  {
   "cell_type": "code",
   "execution_count": 20,
   "metadata": {},
   "outputs": [],
   "source": [
    "f = np.min(0.5 * (np.array(H_L) / hyper_param[\"m\"]) ** 0.5)"
   ]
  },
  {
   "cell_type": "code",
   "execution_count": 21,
   "metadata": {},
   "outputs": [],
   "source": [
    "\n",
    "t_max = hyper_param['t_min'] + 1 / f \n",
    "t = torch.linspace(hyper_param['t_min'], t_max, 1000)\n",
    "\n"
   ]
  },
  {
   "cell_type": "code",
   "execution_count": 22,
   "metadata": {},
   "outputs": [],
   "source": [
    "def find_cl_data(num, case, time_init, T, param_adim, r=0.025/2):\n",
    "    df = pd.read_csv('data/'+ f\"data_john_{num}_case_{case}.csv\")\n",
    "    df_modified = df.loc[\n",
    "            (df[\"Time\"] > time_init)\n",
    "            & (df[\"Time\"] < time_init + 15 * T)\n",
    "            & (df[\"Points:2\"] == 0.0)\n",
    "            & (df[\"Points:0\"] ** 2 + df[\"Points:1\"] ** 2 < 1.1* (0.025 / 2) ** 2),\n",
    "            :,\n",
    "        ].copy()\n",
    "    X_theta = np.empty((df_modified.shape[0], 3))\n",
    "    X_theta[:, 0] = time_init + ((df_modified['Time'].to_numpy() - time_init) % T )    #X_full[masque_theta][:, 2] \n",
    "    X_theta[:, 2] = df_modified['Pressure'].to_numpy()    #U_full[masque_theta][:, 2]\n",
    "    X_theta[:, 1] = np.atan2(df_modified['Points:1'].to_numpy(), df_modified['Points:0'].to_numpy())    #np.atan2(X_full[masque_theta][:, 1] * mean_std['y_std'] + mean_std['y_mean'], X_full[masque_theta][:, 0] * mean_std['x_std'] + mean_std['x_mean'])\n",
    "    portance = np.empty(np.unique(X_theta[:, 0]).shape[0])\n",
    "    for nb, time_ in enumerate(np.unique(X_theta[:, 0])):\n",
    "        masque_time = X_theta[:, 0] == time_\n",
    "        indices = np.argsort(X_theta[masque_time][:, 1])[::-1]\n",
    "        d_theta = X_theta[masque_time][indices][:-1, 1] - X_theta[masque_time][indices][1:, 1]\n",
    "        portance[nb] = -np.sum(X_theta[masque_time][indices][1:, 2] * np.sin(X_theta[masque_time][indices][1:, 1])*d_theta * r)\n",
    "    time_predict = np.unique(X_theta[:, 0])    # (X_full[masque_theta][:, 2].unique()* mean_std['t_std'] + mean_std['t_mean']) * (param_adim['L']/ param_adim['V'])\n",
    "    return time_predict, portance / (0.5 * param_adim['rho'] * param_adim['V']**2 * 2 * r)\n",
    "    "
   ]
  },
  {
   "cell_type": "code",
   "execution_count": 23,
   "metadata": {},
   "outputs": [],
   "source": [
    "def find_cl_data_with_model(num, case, time_init, T, param_adim, ya0_, H_, r=0.025/2):\n",
    "    df = pd.read_csv('data/'+ f\"data_john_{num}_case_{case}.csv\")\n",
    "    df_modified = df.loc[\n",
    "            (df[\"Time\"] > time_init)\n",
    "            & (df[\"Time\"] < time_init + 15 * T)\n",
    "            & (df[\"Points:2\"] == 0.0)\n",
    "            & (df[\"Points:0\"] ** 2 + df[\"Points:1\"] ** 2 < 1.1* (0.025 / 2) ** 2),\n",
    "            :,\n",
    "        ].copy()\n",
    "    X_theta = np.empty((df_modified.shape[0], 3))\n",
    "    X_theta[:, 0] = time_init + ((df_modified['Time'].to_numpy() - time_init) % T )    #X_full[masque_theta][:, 2] \n",
    "    #X_theta[:, 2] = df_modified['Pressure'].to_numpy()    #U_full[masque_theta][:, 2]\n",
    "    X_theta[:, 1] = np.atan2(df_modified['Points:1'].to_numpy(), df_modified['Points:0'].to_numpy())    #np.atan2(X_full[masque_theta][:, 1] * mean_std['y_std'] + mean_std['y_mean'], X_full[masque_theta][:, 0] * mean_std['x_std'] + mean_std['x_mean'])\n",
    "    x = (((torch.cos(torch.tensor(X_theta[:, 1])) * 0.025/2)/param_adim['L'])- mean_std['x_mean'])/mean_std['x_std']\n",
    "    y = (((torch.sin(torch.tensor(X_theta[:, 1])) * 0.025/2)/param_adim['L'])- mean_std['y_mean'])/mean_std['y_std']\n",
    "    time = torch.from_numpy(((X_theta[:, 0] / (param_adim['L']/ param_adim['V'])) - mean_std['t_mean'])/mean_std['t_std'])\n",
    "    ya0 = ((((ya0_ / param_adim['L'])) - mean_std['ya0_mean'])/mean_std['ya0_std'])*torch.ones_like(x)\n",
    "    w0 = torch.pi *(H_ / hyper_param[\"m\"]) ** 0.5\n",
    "    w0 = ((((w0 / (param_adim['V']/param_adim['L']))) - mean_std['w0_mean'])/mean_std['w0_std'])*torch.ones_like(x)\n",
    "    X_theta[:, 2] = ((model(torch.stack((x,y,time,ya0,w0), dim=1).to(torch.float32)).detach().numpy()[:, 2]) * mean_std['p_std'] + mean_std['p_mean'])*(((param_adim[\"V\"] ** 2) * param_adim[\"rho\"]))\n",
    "    portance = np.empty(np.unique(X_theta[:, 0]).shape[0])\n",
    "    for nb, time_ in enumerate(np.unique(X_theta[:, 0])):\n",
    "        masque_time = X_theta[:, 0] == time_,\n",
    "        indices = np.argsort(X_theta[masque_time][:, 1])[::-1]\n",
    "        d_theta = X_theta[masque_time][indices][:-1, 1] - X_theta[masque_time][indices][1:, 1]\n",
    "        portance[nb] = -np.sum(X_theta[masque_time][indices][1:, 2] * np.sin(X_theta[masque_time][indices][1:, 1])*d_theta * r)\n",
    "    time_predict = np.unique(X_theta[:, 0])    # (X_full[masque_theta][:, 2].unique()* mean_std['t_std'] + mean_std['t_mean']) * (param_adim['L']/ param_adim['V'])\n",
    "    return time_predict, portance / (0.5 * param_adim['rho'] * param_adim['V']**2 * 2 * r)\n",
    "    "
   ]
  },
  {
   "cell_type": "code",
   "execution_count": 24,
   "metadata": {},
   "outputs": [
    {
     "name": "stdout",
     "output_type": "stream",
     "text": [
      "num :1, case: 1\n",
      "ya0: 0.01, H: 261.39\n"
     ]
    },
    {
     "ename": "NameError",
     "evalue": "name 'model' is not defined",
     "output_type": "error",
     "traceback": [
      "\u001b[0;31m---------------------------------------------------------------------------\u001b[0m",
      "\u001b[0;31mNameError\u001b[0m                                 Traceback (most recent call last)",
      "Cell \u001b[0;32mIn[24], line 6\u001b[0m\n\u001b[1;32m      4\u001b[0m \u001b[38;5;28mprint\u001b[39m(\u001b[38;5;124mf\u001b[39m\u001b[38;5;124m\"\u001b[39m\u001b[38;5;124mnum :\u001b[39m\u001b[38;5;132;01m{\u001b[39;00mnum[k]\u001b[38;5;132;01m}\u001b[39;00m\u001b[38;5;124m, case: \u001b[39m\u001b[38;5;132;01m{\u001b[39;00mcase[k]\u001b[38;5;132;01m}\u001b[39;00m\u001b[38;5;124m\"\u001b[39m)\n\u001b[1;32m      5\u001b[0m \u001b[38;5;28mprint\u001b[39m(\u001b[38;5;124mf\u001b[39m\u001b[38;5;124m\"\u001b[39m\u001b[38;5;124mya0: \u001b[39m\u001b[38;5;132;01m{\u001b[39;00mya0_L[k]\u001b[38;5;132;01m}\u001b[39;00m\u001b[38;5;124m, H: \u001b[39m\u001b[38;5;132;01m{\u001b[39;00mH_L[k]\u001b[38;5;132;01m}\u001b[39;00m\u001b[38;5;124m\"\u001b[39m)\n\u001b[0;32m----> 6\u001b[0m cl_predict, x, y \u001b[38;5;241m=\u001b[39m predict_cl(t, ya0_L[k], w0, \u001b[43mmodel\u001b[49m, param_adim, mean_std, nb_disc_theta\u001b[38;5;241m=\u001b[39m\u001b[38;5;241m500\u001b[39m)\n\u001b[1;32m      7\u001b[0m time, cl_true \u001b[38;5;241m=\u001b[39m true_cl(num\u001b[38;5;241m=\u001b[39mnum[k], case\u001b[38;5;241m=\u001b[39mcase[k], time_init\u001b[38;5;241m=\u001b[39mhyper_param[\u001b[38;5;124m'\u001b[39m\u001b[38;5;124mt_min\u001b[39m\u001b[38;5;124m'\u001b[39m], time_max\u001b[38;5;241m=\u001b[39mt_max)\n\u001b[1;32m      8\u001b[0m \u001b[38;5;28;01mwith\u001b[39;00m torch\u001b[38;5;241m.\u001b[39mno_grad():\n",
      "\u001b[0;31mNameError\u001b[0m: name 'model' is not defined"
     ]
    }
   ],
   "source": [
    "for k in range(len(case)):\n",
    "    w0 = torch.pi * (H_L[k]/hyper_param['m'])**0.5\n",
    "    T = 2 * torch.pi/w0\n",
    "    print(f\"num :{num[k]}, case: {case[k]}\")\n",
    "    print(f\"ya0: {ya0_L[k]}, H: {H_L[k]}\")\n",
    "    cl_predict, x, y = predict_cl(t, ya0_L[k], w0, model, param_adim, mean_std, nb_disc_theta=500)\n",
    "    time, cl_true = true_cl(num=num[k], case=case[k], time_init=hyper_param['t_min'], time_max=t_max)\n",
    "    with torch.no_grad():\n",
    "        plt.plot(t, cl_predict, color = 'red', label = 'Predict Cl', linewidth=0.8)\n",
    "        plt.plot(time, cl_true, label = 'True Cl', color='blue', linewidth=0.8)\n",
    "        #plt.plot(time_data, cl_data, label = 'Data Cl', color='green', linewidth=0.8)\n",
    "        plt.title('plot de Cl', fontsize=16, fontweight='bold')  # Titre\n",
    "        plt.xlabel('Temps (s)', fontsize=14)  # Label de l'axe x\n",
    "        plt.ylabel('Cl', fontsize=14)  # Label de l'axe y\n",
    "        plt.legend(loc='upper right', fontsize=12)  # Légende\n",
    "        plt.grid(alpha=0.7, linestyle= '--')  # Grille avec transparence\n",
    "        plt.xticks(fontsize=12)  # Taille des ticks de l'axe x\n",
    "        plt.yticks(fontsize=12)  # Taille des ticks de l'axe y\n",
    "        plt.tight_layout()  # Ajuste le layout pour éviter le chevauchement\n",
    "        os.makedirs('results/' + folder_name + f'/H_{H_L[k]}/ya0_{ya0_L[k]:.2e}', exist_ok=True)\n",
    "        plt.savefig('results/' + folder_name + f'/H_{H_L[k]}/ya0_{ya0_L[k]:.2e}/cl.png')\n",
    "        plt.show()\n",
    "    "
   ]
  },
  {
   "cell_type": "code",
   "execution_count": 25,
   "metadata": {},
   "outputs": [
    {
     "ename": "NameError",
     "evalue": "name 'mean_std' is not defined",
     "output_type": "error",
     "traceback": [
      "\u001b[0;31m---------------------------------------------------------------------------\u001b[0m",
      "\u001b[0;31mNameError\u001b[0m                                 Traceback (most recent call last)",
      "Cell \u001b[0;32mIn[25], line 4\u001b[0m\n\u001b[1;32m      2\u001b[0m w \u001b[38;5;241m=\u001b[39m torch\u001b[38;5;241m.\u001b[39mpi \u001b[38;5;241m*\u001b[39m (H_L[k]\u001b[38;5;241m/\u001b[39mhyper_param[\u001b[38;5;124m'\u001b[39m\u001b[38;5;124mm\u001b[39m\u001b[38;5;124m'\u001b[39m])\u001b[38;5;241m*\u001b[39m\u001b[38;5;241m*\u001b[39m\u001b[38;5;241m0.5\u001b[39m\n\u001b[1;32m      3\u001b[0m T \u001b[38;5;241m=\u001b[39m torch\u001b[38;5;241m.\u001b[39mpi \u001b[38;5;241m*\u001b[39m \u001b[38;5;241m2\u001b[39m \u001b[38;5;241m/\u001b[39m w\n\u001b[0;32m----> 4\u001b[0m time_predict, cl_predict3 \u001b[38;5;241m=\u001b[39m \u001b[43mfind_cl_data_with_model\u001b[49m\u001b[43m(\u001b[49m\u001b[43mnum\u001b[49m\u001b[38;5;241;43m=\u001b[39;49m\u001b[43mnum\u001b[49m\u001b[43m[\u001b[49m\u001b[43mk\u001b[49m\u001b[43m]\u001b[49m\u001b[43m,\u001b[49m\u001b[43m \u001b[49m\u001b[43mcase\u001b[49m\u001b[38;5;241;43m=\u001b[39;49m\u001b[43mcase\u001b[49m\u001b[43m[\u001b[49m\u001b[43mk\u001b[49m\u001b[43m]\u001b[49m\u001b[43m,\u001b[49m\u001b[43m \u001b[49m\u001b[43mtime_init\u001b[49m\u001b[38;5;241;43m=\u001b[39;49m\u001b[43mhyper_param\u001b[49m\u001b[43m[\u001b[49m\u001b[38;5;124;43m'\u001b[39;49m\u001b[38;5;124;43mt_min\u001b[39;49m\u001b[38;5;124;43m'\u001b[39;49m\u001b[43m]\u001b[49m\u001b[43m,\u001b[49m\u001b[43m \u001b[49m\u001b[43mT\u001b[49m\u001b[38;5;241;43m=\u001b[39;49m\u001b[43mT\u001b[49m\u001b[43m,\u001b[49m\u001b[43m \u001b[49m\u001b[43mya0_\u001b[49m\u001b[43m \u001b[49m\u001b[38;5;241;43m=\u001b[39;49m\u001b[43m \u001b[49m\u001b[43mya0_L\u001b[49m\u001b[43m[\u001b[49m\u001b[43mk\u001b[49m\u001b[43m]\u001b[49m\u001b[43m,\u001b[49m\u001b[43m \u001b[49m\u001b[43mH_\u001b[49m\u001b[38;5;241;43m=\u001b[39;49m\u001b[43m \u001b[49m\u001b[43mH_L\u001b[49m\u001b[43m[\u001b[49m\u001b[43mk\u001b[49m\u001b[43m]\u001b[49m\u001b[43m,\u001b[49m\u001b[43m \u001b[49m\u001b[43mparam_adim\u001b[49m\u001b[38;5;241;43m=\u001b[39;49m\u001b[43mparam_adim\u001b[49m\u001b[43m)\u001b[49m\n\u001b[1;32m      5\u001b[0m time_data, cl_data \u001b[38;5;241m=\u001b[39m find_cl_data(num\u001b[38;5;241m=\u001b[39mnum[k], case\u001b[38;5;241m=\u001b[39mcase[k], time_init\u001b[38;5;241m=\u001b[39mhyper_param[\u001b[38;5;124m'\u001b[39m\u001b[38;5;124mt_min\u001b[39m\u001b[38;5;124m'\u001b[39m], T\u001b[38;5;241m=\u001b[39mT, param_adim\u001b[38;5;241m=\u001b[39mparam_adim)\n\u001b[1;32m      6\u001b[0m \u001b[38;5;28mprint\u001b[39m(\u001b[38;5;124mf\u001b[39m\u001b[38;5;124m\"\u001b[39m\u001b[38;5;124mnum :\u001b[39m\u001b[38;5;132;01m{\u001b[39;00mnum[k]\u001b[38;5;132;01m}\u001b[39;00m\u001b[38;5;124m, case: \u001b[39m\u001b[38;5;132;01m{\u001b[39;00mcase[k]\u001b[38;5;132;01m}\u001b[39;00m\u001b[38;5;124m\"\u001b[39m)\n",
      "Cell \u001b[0;32mIn[23], line 14\u001b[0m, in \u001b[0;36mfind_cl_data_with_model\u001b[0;34m(num, case, time_init, T, param_adim, ya0_, H_, r)\u001b[0m\n\u001b[1;32m     12\u001b[0m \u001b[38;5;66;03m#X_theta[:, 2] = df_modified['Pressure'].to_numpy()    #U_full[masque_theta][:, 2]\u001b[39;00m\n\u001b[1;32m     13\u001b[0m X_theta[:, \u001b[38;5;241m1\u001b[39m] \u001b[38;5;241m=\u001b[39m np\u001b[38;5;241m.\u001b[39matan2(df_modified[\u001b[38;5;124m'\u001b[39m\u001b[38;5;124mPoints:1\u001b[39m\u001b[38;5;124m'\u001b[39m]\u001b[38;5;241m.\u001b[39mto_numpy(), df_modified[\u001b[38;5;124m'\u001b[39m\u001b[38;5;124mPoints:0\u001b[39m\u001b[38;5;124m'\u001b[39m]\u001b[38;5;241m.\u001b[39mto_numpy())    \u001b[38;5;66;03m#np.atan2(X_full[masque_theta][:, 1] * mean_std['y_std'] + mean_std['y_mean'], X_full[masque_theta][:, 0] * mean_std['x_std'] + mean_std['x_mean'])\u001b[39;00m\n\u001b[0;32m---> 14\u001b[0m x \u001b[38;5;241m=\u001b[39m (((torch\u001b[38;5;241m.\u001b[39mcos(torch\u001b[38;5;241m.\u001b[39mtensor(X_theta[:, \u001b[38;5;241m1\u001b[39m])) \u001b[38;5;241m*\u001b[39m \u001b[38;5;241m0.025\u001b[39m\u001b[38;5;241m/\u001b[39m\u001b[38;5;241m2\u001b[39m)\u001b[38;5;241m/\u001b[39mparam_adim[\u001b[38;5;124m'\u001b[39m\u001b[38;5;124mL\u001b[39m\u001b[38;5;124m'\u001b[39m])\u001b[38;5;241m-\u001b[39m \u001b[43mmean_std\u001b[49m[\u001b[38;5;124m'\u001b[39m\u001b[38;5;124mx_mean\u001b[39m\u001b[38;5;124m'\u001b[39m])\u001b[38;5;241m/\u001b[39mmean_std[\u001b[38;5;124m'\u001b[39m\u001b[38;5;124mx_std\u001b[39m\u001b[38;5;124m'\u001b[39m]\n\u001b[1;32m     15\u001b[0m y \u001b[38;5;241m=\u001b[39m (((torch\u001b[38;5;241m.\u001b[39msin(torch\u001b[38;5;241m.\u001b[39mtensor(X_theta[:, \u001b[38;5;241m1\u001b[39m])) \u001b[38;5;241m*\u001b[39m \u001b[38;5;241m0.025\u001b[39m\u001b[38;5;241m/\u001b[39m\u001b[38;5;241m2\u001b[39m)\u001b[38;5;241m/\u001b[39mparam_adim[\u001b[38;5;124m'\u001b[39m\u001b[38;5;124mL\u001b[39m\u001b[38;5;124m'\u001b[39m])\u001b[38;5;241m-\u001b[39m mean_std[\u001b[38;5;124m'\u001b[39m\u001b[38;5;124my_mean\u001b[39m\u001b[38;5;124m'\u001b[39m])\u001b[38;5;241m/\u001b[39mmean_std[\u001b[38;5;124m'\u001b[39m\u001b[38;5;124my_std\u001b[39m\u001b[38;5;124m'\u001b[39m]\n\u001b[1;32m     16\u001b[0m time \u001b[38;5;241m=\u001b[39m torch\u001b[38;5;241m.\u001b[39mfrom_numpy(((X_theta[:, \u001b[38;5;241m0\u001b[39m] \u001b[38;5;241m/\u001b[39m (param_adim[\u001b[38;5;124m'\u001b[39m\u001b[38;5;124mL\u001b[39m\u001b[38;5;124m'\u001b[39m]\u001b[38;5;241m/\u001b[39m param_adim[\u001b[38;5;124m'\u001b[39m\u001b[38;5;124mV\u001b[39m\u001b[38;5;124m'\u001b[39m])) \u001b[38;5;241m-\u001b[39m mean_std[\u001b[38;5;124m'\u001b[39m\u001b[38;5;124mt_mean\u001b[39m\u001b[38;5;124m'\u001b[39m])\u001b[38;5;241m/\u001b[39mmean_std[\u001b[38;5;124m'\u001b[39m\u001b[38;5;124mt_std\u001b[39m\u001b[38;5;124m'\u001b[39m])\n",
      "\u001b[0;31mNameError\u001b[0m: name 'mean_std' is not defined"
     ]
    }
   ],
   "source": [
    "for k in range(len(case)):\n",
    "    w = torch.pi * (H_L[k]/hyper_param['m'])**0.5\n",
    "    T = torch.pi * 2 / w\n",
    "    time_predict, cl_predict3 = find_cl_data_with_model(num=num[k], case=case[k], time_init=hyper_param['t_min'], T=T, ya0_ = ya0_L[k], H_= H_L[k], param_adim=param_adim)\n",
    "    time_data, cl_data = find_cl_data(num=num[k], case=case[k], time_init=hyper_param['t_min'], T=T, param_adim=param_adim)\n",
    "    print(f\"num :{num[k]}, case: {case[k]}\")\n",
    "    print(f\"ya0: {ya0_L[k]}, H: {H_L[k]}\")\n",
    "    with torch.no_grad():\n",
    "        plt.plot(time_predict, cl_predict3, color = 'red', label = 'Predict Cl', linewidth=0.8)\n",
    "        plt.plot(time_data, cl_data, label = 'Data Cl', color='green', linewidth=0.8)\n",
    "        plt.title('plot de Cl', fontsize=16, fontweight='bold')  # Titre\n",
    "        plt.xlabel('Temps (s)', fontsize=14)  # Label de l'axe x\n",
    "        plt.ylabel('Cl', fontsize=14)  # Label de l'axe y\n",
    "        plt.legend(loc='upper right', fontsize=12)  # Légende\n",
    "        plt.grid(alpha=0.7, linestyle= '--')  # Grille avec transparence\n",
    "        plt.xticks(fontsize=12)  # Taille des ticks de l'axe x\n",
    "        plt.yticks(fontsize=12)  # Taille des ticks de l'axe y\n",
    "        plt.tight_layout()  # Ajuste le layout pour éviter le chevauchement\n",
    "        os.makedirs('results/' + folder_name + f'/H_{H_L[k]}/ya0_{ya0_L[k]:.2e}', exist_ok=True)\n",
    "        plt.savefig('results/' + folder_name + f'/H_{H_L[k]}/ya0_{ya0_L[k]:.2e}/cl_data.png')\n",
    "        plt.show()"
   ]
  },
  {
   "cell_type": "code",
   "execution_count": 26,
   "metadata": {},
   "outputs": [
    {
     "ename": "NameError",
     "evalue": "name 'mean_std' is not defined",
     "output_type": "error",
     "traceback": [
      "\u001b[0;31m---------------------------------------------------------------------------\u001b[0m",
      "\u001b[0;31mNameError\u001b[0m                                 Traceback (most recent call last)",
      "Cell \u001b[0;32mIn[26], line 4\u001b[0m\n\u001b[1;32m      2\u001b[0m w \u001b[38;5;241m=\u001b[39m torch\u001b[38;5;241m.\u001b[39mpi \u001b[38;5;241m*\u001b[39m (H_L[k]\u001b[38;5;241m/\u001b[39mhyper_param[\u001b[38;5;124m'\u001b[39m\u001b[38;5;124mm\u001b[39m\u001b[38;5;124m'\u001b[39m])\u001b[38;5;241m*\u001b[39m\u001b[38;5;241m*\u001b[39m\u001b[38;5;241m0.5\u001b[39m\n\u001b[1;32m      3\u001b[0m T \u001b[38;5;241m=\u001b[39m torch\u001b[38;5;241m.\u001b[39mpi \u001b[38;5;241m*\u001b[39m \u001b[38;5;241m2\u001b[39m \u001b[38;5;241m/\u001b[39m w\n\u001b[0;32m----> 4\u001b[0m time_predict, cl_predict3 \u001b[38;5;241m=\u001b[39m \u001b[43mfind_cl_data_with_model\u001b[49m\u001b[43m(\u001b[49m\u001b[43mnum\u001b[49m\u001b[38;5;241;43m=\u001b[39;49m\u001b[43mnum\u001b[49m\u001b[43m[\u001b[49m\u001b[43mk\u001b[49m\u001b[43m]\u001b[49m\u001b[43m,\u001b[49m\u001b[43m \u001b[49m\u001b[43mcase\u001b[49m\u001b[38;5;241;43m=\u001b[39;49m\u001b[43mcase\u001b[49m\u001b[43m[\u001b[49m\u001b[43mk\u001b[49m\u001b[43m]\u001b[49m\u001b[43m,\u001b[49m\u001b[43m \u001b[49m\u001b[43mtime_init\u001b[49m\u001b[38;5;241;43m=\u001b[39;49m\u001b[43mhyper_param\u001b[49m\u001b[43m[\u001b[49m\u001b[38;5;124;43m'\u001b[39;49m\u001b[38;5;124;43mt_min\u001b[39;49m\u001b[38;5;124;43m'\u001b[39;49m\u001b[43m]\u001b[49m\u001b[43m,\u001b[49m\u001b[43m \u001b[49m\u001b[43mT\u001b[49m\u001b[38;5;241;43m=\u001b[39;49m\u001b[43mT\u001b[49m\u001b[43m,\u001b[49m\u001b[43m \u001b[49m\u001b[43mya0_\u001b[49m\u001b[43m \u001b[49m\u001b[38;5;241;43m=\u001b[39;49m\u001b[43m \u001b[49m\u001b[43mya0_L\u001b[49m\u001b[43m[\u001b[49m\u001b[43mk\u001b[49m\u001b[43m]\u001b[49m\u001b[43m,\u001b[49m\u001b[43m \u001b[49m\u001b[43mH_\u001b[49m\u001b[38;5;241;43m=\u001b[39;49m\u001b[43m \u001b[49m\u001b[43mH_L\u001b[49m\u001b[43m[\u001b[49m\u001b[43mk\u001b[49m\u001b[43m]\u001b[49m\u001b[43m,\u001b[49m\u001b[43m \u001b[49m\u001b[43mparam_adim\u001b[49m\u001b[38;5;241;43m=\u001b[39;49m\u001b[43mparam_adim\u001b[49m\u001b[43m)\u001b[49m\n\u001b[1;32m      5\u001b[0m time, cl_true \u001b[38;5;241m=\u001b[39m true_cl(num\u001b[38;5;241m=\u001b[39mnum[k], case\u001b[38;5;241m=\u001b[39mcase[k], time_init\u001b[38;5;241m=\u001b[39mhyper_param[\u001b[38;5;124m'\u001b[39m\u001b[38;5;124mt_min\u001b[39m\u001b[38;5;124m'\u001b[39m], time_max\u001b[38;5;241m=\u001b[39mt_max)\n\u001b[1;32m      6\u001b[0m \u001b[38;5;28mprint\u001b[39m(\u001b[38;5;124mf\u001b[39m\u001b[38;5;124m\"\u001b[39m\u001b[38;5;124mnum :\u001b[39m\u001b[38;5;132;01m{\u001b[39;00mnum[k]\u001b[38;5;132;01m}\u001b[39;00m\u001b[38;5;124m, case: \u001b[39m\u001b[38;5;132;01m{\u001b[39;00mcase[k]\u001b[38;5;132;01m}\u001b[39;00m\u001b[38;5;124m\"\u001b[39m)\n",
      "Cell \u001b[0;32mIn[23], line 14\u001b[0m, in \u001b[0;36mfind_cl_data_with_model\u001b[0;34m(num, case, time_init, T, param_adim, ya0_, H_, r)\u001b[0m\n\u001b[1;32m     12\u001b[0m \u001b[38;5;66;03m#X_theta[:, 2] = df_modified['Pressure'].to_numpy()    #U_full[masque_theta][:, 2]\u001b[39;00m\n\u001b[1;32m     13\u001b[0m X_theta[:, \u001b[38;5;241m1\u001b[39m] \u001b[38;5;241m=\u001b[39m np\u001b[38;5;241m.\u001b[39matan2(df_modified[\u001b[38;5;124m'\u001b[39m\u001b[38;5;124mPoints:1\u001b[39m\u001b[38;5;124m'\u001b[39m]\u001b[38;5;241m.\u001b[39mto_numpy(), df_modified[\u001b[38;5;124m'\u001b[39m\u001b[38;5;124mPoints:0\u001b[39m\u001b[38;5;124m'\u001b[39m]\u001b[38;5;241m.\u001b[39mto_numpy())    \u001b[38;5;66;03m#np.atan2(X_full[masque_theta][:, 1] * mean_std['y_std'] + mean_std['y_mean'], X_full[masque_theta][:, 0] * mean_std['x_std'] + mean_std['x_mean'])\u001b[39;00m\n\u001b[0;32m---> 14\u001b[0m x \u001b[38;5;241m=\u001b[39m (((torch\u001b[38;5;241m.\u001b[39mcos(torch\u001b[38;5;241m.\u001b[39mtensor(X_theta[:, \u001b[38;5;241m1\u001b[39m])) \u001b[38;5;241m*\u001b[39m \u001b[38;5;241m0.025\u001b[39m\u001b[38;5;241m/\u001b[39m\u001b[38;5;241m2\u001b[39m)\u001b[38;5;241m/\u001b[39mparam_adim[\u001b[38;5;124m'\u001b[39m\u001b[38;5;124mL\u001b[39m\u001b[38;5;124m'\u001b[39m])\u001b[38;5;241m-\u001b[39m \u001b[43mmean_std\u001b[49m[\u001b[38;5;124m'\u001b[39m\u001b[38;5;124mx_mean\u001b[39m\u001b[38;5;124m'\u001b[39m])\u001b[38;5;241m/\u001b[39mmean_std[\u001b[38;5;124m'\u001b[39m\u001b[38;5;124mx_std\u001b[39m\u001b[38;5;124m'\u001b[39m]\n\u001b[1;32m     15\u001b[0m y \u001b[38;5;241m=\u001b[39m (((torch\u001b[38;5;241m.\u001b[39msin(torch\u001b[38;5;241m.\u001b[39mtensor(X_theta[:, \u001b[38;5;241m1\u001b[39m])) \u001b[38;5;241m*\u001b[39m \u001b[38;5;241m0.025\u001b[39m\u001b[38;5;241m/\u001b[39m\u001b[38;5;241m2\u001b[39m)\u001b[38;5;241m/\u001b[39mparam_adim[\u001b[38;5;124m'\u001b[39m\u001b[38;5;124mL\u001b[39m\u001b[38;5;124m'\u001b[39m])\u001b[38;5;241m-\u001b[39m mean_std[\u001b[38;5;124m'\u001b[39m\u001b[38;5;124my_mean\u001b[39m\u001b[38;5;124m'\u001b[39m])\u001b[38;5;241m/\u001b[39mmean_std[\u001b[38;5;124m'\u001b[39m\u001b[38;5;124my_std\u001b[39m\u001b[38;5;124m'\u001b[39m]\n\u001b[1;32m     16\u001b[0m time \u001b[38;5;241m=\u001b[39m torch\u001b[38;5;241m.\u001b[39mfrom_numpy(((X_theta[:, \u001b[38;5;241m0\u001b[39m] \u001b[38;5;241m/\u001b[39m (param_adim[\u001b[38;5;124m'\u001b[39m\u001b[38;5;124mL\u001b[39m\u001b[38;5;124m'\u001b[39m]\u001b[38;5;241m/\u001b[39m param_adim[\u001b[38;5;124m'\u001b[39m\u001b[38;5;124mV\u001b[39m\u001b[38;5;124m'\u001b[39m])) \u001b[38;5;241m-\u001b[39m mean_std[\u001b[38;5;124m'\u001b[39m\u001b[38;5;124mt_mean\u001b[39m\u001b[38;5;124m'\u001b[39m])\u001b[38;5;241m/\u001b[39mmean_std[\u001b[38;5;124m'\u001b[39m\u001b[38;5;124mt_std\u001b[39m\u001b[38;5;124m'\u001b[39m])\n",
      "\u001b[0;31mNameError\u001b[0m: name 'mean_std' is not defined"
     ]
    }
   ],
   "source": [
    "for k in range(len(case)):\n",
    "    w = torch.pi * (H_L[k]/hyper_param['m'])**0.5\n",
    "    T = torch.pi * 2 / w\n",
    "    time_predict, cl_predict3 = find_cl_data_with_model(num=num[k], case=case[k], time_init=hyper_param['t_min'], T=T, ya0_ = ya0_L[k], H_= H_L[k], param_adim=param_adim)\n",
    "    time, cl_true = true_cl(num=num[k], case=case[k], time_init=hyper_param['t_min'], time_max=t_max)\n",
    "    print(f\"num :{num[k]}, case: {case[k]}\")\n",
    "    print(f\"ya0: {ya0_L[k]}, H: {H_L[k]}\")\n",
    "    with torch.no_grad():\n",
    "        plt.plot(time_predict, cl_predict3, color = 'red', label = 'Predict Cl', linewidth=0.8)\n",
    "        plt.plot(time, cl_true, label = 'Data Cl', color='green', linewidth=0.8)\n",
    "        plt.title('plot de Cl', fontsize=16, fontweight='bold')  # Titre\n",
    "        plt.xlabel('Temps (s)', fontsize=14)  # Label de l'axe x\n",
    "        plt.ylabel('Cl', fontsize=14)  # Label de l'axe y\n",
    "        plt.legend(loc='upper right', fontsize=12)  # Légende\n",
    "        plt.grid(alpha=0.7, linestyle= '--')  # Grille avec transparence\n",
    "        plt.xticks(fontsize=12)  # Taille des ticks de l'axe x\n",
    "        plt.yticks(fontsize=12)  # Taille des ticks de l'axe y\n",
    "        plt.tight_layout()  # Ajuste le layout pour éviter le chevauchement\n",
    "        os.makedirs('results/' + folder_name + f'/H_{H_L[k]}/ya0_{ya0_L[k]:.2e}', exist_ok=True)\n",
    "        plt.savefig('results/' + folder_name + f'/H_{H_L[k]}/ya0_{ya0_L[k]:.2e}/cl_data.png')\n",
    "        plt.show()"
   ]
  },
  {
   "cell_type": "code",
   "execution_count": 24,
   "metadata": {},
   "outputs": [],
   "source": [
    "def to_norm_p(p):\n",
    "    return ((p + mean_std['p_std'])*mean_std['p_mean'])*(((param_adim[\"V\"] ** 2) * param_adim[\"rho\"]))"
   ]
  },
  {
   "cell_type": "code",
   "execution_count": 25,
   "metadata": {},
   "outputs": [
    {
     "ename": "NameError",
     "evalue": "name 'X_dat' is not defined",
     "output_type": "error",
     "traceback": [
      "\u001b[0;31m---------------------------------------------------------------------------\u001b[0m",
      "\u001b[0;31mNameError\u001b[0m                                 Traceback (most recent call last)",
      "Cell \u001b[0;32mIn[25], line 1\u001b[0m\n\u001b[0;32m----> 1\u001b[0m np\u001b[38;5;241m.\u001b[39mmean( ((to_norm_p(\u001b[43mX_dat\u001b[49m[:, \u001b[38;5;241m2\u001b[39m]) \u001b[38;5;241m-\u001b[39m to_norm_p(x_pred[:, \u001b[38;5;241m2\u001b[39m])))\u001b[38;5;241m*\u001b[39m\u001b[38;5;241m*\u001b[39m\u001b[38;5;241m2\u001b[39m)\n",
      "\u001b[0;31mNameError\u001b[0m: name 'X_dat' is not defined"
     ]
    }
   ],
   "source": [
    "np.mean( ((to_norm_p(X_dat[:, 2]) - to_norm_p(x_pred[:, 2])))**2)"
   ]
  },
  {
   "cell_type": "code",
   "execution_count": 70,
   "metadata": {},
   "outputs": [
    {
     "data": {
      "text/plain": [
       "np.float64(0.054850644382147255)"
      ]
     },
     "execution_count": 70,
     "metadata": {},
     "output_type": "execute_result"
    }
   ],
   "source": [
    "np.mean( (((X_dat[:, 2] - x_pred[:, 2]))**2)**0.5)"
   ]
  },
  {
   "cell_type": "code",
   "execution_count": 71,
   "metadata": {},
   "outputs": [
    {
     "data": {
      "text/plain": [
       "np.float64(2.0969806201271886)"
      ]
     },
     "execution_count": 71,
     "metadata": {},
     "output_type": "execute_result"
    }
   ],
   "source": [
    "X_dat.mean()"
   ]
  },
  {
   "cell_type": "code",
   "execution_count": 72,
   "metadata": {},
   "outputs": [
    {
     "data": {
      "text/plain": [
       "np.float64(2.0889105947867064)"
      ]
     },
     "execution_count": 72,
     "metadata": {},
     "output_type": "execute_result"
    }
   ],
   "source": [
    "x_pred.mean()"
   ]
  },
  {
   "cell_type": "code",
   "execution_count": 376,
   "metadata": {},
   "outputs": [],
   "source": [
    "ya0_L = [\n",
    "    0.0025,\n",
    "    0.005,\n",
    "    0.0075,\n",
    "    0.0175\n",
    "]\n",
    "num_L = [2, 6, 8, 3]"
   ]
  },
  {
   "cell_type": "code",
   "execution_count": 337,
   "metadata": {},
   "outputs": [
    {
     "ename": "TypeError",
     "evalue": "predict_cl() missing 1 required positional argument: 'mean_std'",
     "output_type": "error",
     "traceback": [
      "\u001b[0;31m---------------------------------------------------------------------------\u001b[0m",
      "\u001b[0;31mTypeError\u001b[0m                                 Traceback (most recent call last)",
      "Cell \u001b[0;32mIn[337], line 2\u001b[0m\n\u001b[1;32m      1\u001b[0m \u001b[38;5;28;01mfor\u001b[39;00m ya0, num \u001b[38;5;129;01min\u001b[39;00m \u001b[38;5;28mzip\u001b[39m(ya0_L, num_L):\n\u001b[0;32m----> 2\u001b[0m     cl_predict \u001b[38;5;241m=\u001b[39m \u001b[43mpredict_cl\u001b[49m\u001b[43m(\u001b[49m\u001b[43mt\u001b[49m\u001b[43m,\u001b[49m\u001b[43m \u001b[49m\u001b[43mya0\u001b[49m\u001b[43m,\u001b[49m\u001b[43m \u001b[49m\u001b[43mmodel\u001b[49m\u001b[43m,\u001b[49m\u001b[43m \u001b[49m\u001b[43mparam_adim\u001b[49m\u001b[43m,\u001b[49m\u001b[43m \u001b[49m\u001b[43mmean_std\u001b[49m\u001b[43m,\u001b[49m\u001b[43m \u001b[49m\u001b[43mnb_disc_theta\u001b[49m\u001b[38;5;241;43m=\u001b[39;49m\u001b[38;5;241;43m1000\u001b[39;49m\u001b[43m)\u001b[49m\n\u001b[1;32m      3\u001b[0m     time, cl_true \u001b[38;5;241m=\u001b[39m true_cl(num\u001b[38;5;241m=\u001b[39mnum, case\u001b[38;5;241m=\u001b[39m\u001b[38;5;241m2\u001b[39m, time_init\u001b[38;5;241m=\u001b[39mhyper_param[\u001b[38;5;124m'\u001b[39m\u001b[38;5;124mt_min\u001b[39m\u001b[38;5;124m'\u001b[39m], time_max\u001b[38;5;241m=\u001b[39mt_max)\n\u001b[1;32m      4\u001b[0m     \u001b[38;5;28;01mwith\u001b[39;00m torch\u001b[38;5;241m.\u001b[39mno_grad():\n",
      "\u001b[0;31mTypeError\u001b[0m: predict_cl() missing 1 required positional argument: 'mean_std'"
     ]
    }
   ],
   "source": [
    "for ya0, num in zip(ya0_L, num_L):\n",
    "    cl_predict = predict_cl(t, ya0, model, param_adim, mean_std, nb_disc_theta=1000)\n",
    "    time, cl_true = true_cl(num=num, case=2, time_init=hyper_param['t_min'], time_max=t_max)\n",
    "    with torch.no_grad():\n",
    "        plt.plot(t, cl_predict, color = 'red', label = 'Predict Cl', linewidth=0.8)\n",
    "        plt.plot(time, cl_true, label = 'True Cl', color='blue', linewidth=0.8)\n",
    "        plt.title('plot de Cl', fontsize=16, fontweight='bold')  # Titre\n",
    "        plt.xlabel('Temps (s)', fontsize=14)  # Label de l'axe x\n",
    "        plt.ylabel('Cl', fontsize=14)  # Label de l'axe y\n",
    "        plt.legend(loc='upper right', fontsize=12)  # Légende\n",
    "        plt.grid(alpha=0.7, linestyle= '--')  # Grille avec transparence\n",
    "        plt.xticks(fontsize=12)  # Taille des ticks de l'axe x\n",
    "        plt.yticks(fontsize=12)  # Taille des ticks de l'axe y\n",
    "        plt.tight_layout()  # Ajuste le layout pour éviter le chevauchement\n",
    "        plt.savefig('results/' + folder_name + f'/valid_ya0_{ya0:.2e}/cl.png')\n",
    "        plt.show()\n",
    "    "
   ]
  },
  {
   "cell_type": "code",
   "execution_count": 12,
   "metadata": {},
   "outputs": [],
   "source": [
    "ya0 = 1.75e-2\n",
    "num = 3"
   ]
  },
  {
   "cell_type": "code",
   "execution_count": null,
   "metadata": {},
   "outputs": [
    {
     "ename": "NameError",
     "evalue": "name 'mean_std' is not defined",
     "output_type": "error",
     "traceback": [
      "\u001b[0;31m---------------------------------------------------------------------------\u001b[0m",
      "\u001b[0;31mNameError\u001b[0m                                 Traceback (most recent call last)",
      "Cell \u001b[0;32mIn[13], line 1\u001b[0m\n\u001b[0;32m----> 1\u001b[0m cl_predict \u001b[38;5;241m=\u001b[39m predict_cl(t, ya0, model, param_adim, \u001b[43mmean_std\u001b[49m, nb_disc_theta\u001b[38;5;241m=\u001b[39m\u001b[38;5;241m1000\u001b[39m)\n\u001b[1;32m      2\u001b[0m time, cl_true \u001b[38;5;241m=\u001b[39m true_cl(num\u001b[38;5;241m=\u001b[39mnum, case\u001b[38;5;241m=\u001b[39m\u001b[38;5;241m2\u001b[39m, time_init\u001b[38;5;241m=\u001b[39mhyper_param[\u001b[38;5;124m'\u001b[39m\u001b[38;5;124mt_min\u001b[39m\u001b[38;5;124m'\u001b[39m], time_max\u001b[38;5;241m=\u001b[39mhyper_param[\u001b[38;5;124m'\u001b[39m\u001b[38;5;124mt_max\u001b[39m\u001b[38;5;124m'\u001b[39m])\n\u001b[1;32m      3\u001b[0m \u001b[38;5;28;01mwith\u001b[39;00m torch\u001b[38;5;241m.\u001b[39mno_grad():\n",
      "\u001b[0;31mNameError\u001b[0m: name 'mean_std' is not defined"
     ]
    }
   ],
   "source": [
    "cl_predict = predict_cl(t, ya0, model, param_adim, mean_std, nb_disc_theta=1000)\n",
    "time, cl_true = true_cl(num=num, case=2, time_init=hyper_param['t_min'], time_max=hyper_param['t_max'])\n",
    "with torch.no_grad():\n",
    "    plt.plot(t, cl_predict, color = 'red', label = 'Predict Cl', linewidth=0.8)\n",
    "    plt.plot(time, cl_true, label = 'True Cl', color='blue', linewidth=0.8)"
   ]
  },
  {
   "cell_type": "code",
   "execution_count": 14,
   "metadata": {},
   "outputs": [],
   "source": [
    "def piche(t, ya0, model, param_adim, mean_std, r=0.025 / 2, nb_disc_theta=500):\n",
    "    \"\"\"\n",
    "    Args:\n",
    "        t_ad (torch.tensor): Les temps où on veut Cl\n",
    "        ya0 (float) : la valeur d'amplitude pour estimer notre Cl\n",
    "        model (torch.model): le NN qui prédit \n",
    "        param_adim (dict): dictionnaire des param d'adim\n",
    "        mean_std (dict): donne de quoi faire la normalisation Z\n",
    "        r (float): le rayon du cylindre\n",
    "        nb_disc_theta(int): sur combien de theta on discrétise\n",
    "\n",
    "    Returns:\n",
    "        Cl (torch.float):  les valeurs de pression sur le cylindre\n",
    "    \"\"\"\n",
    "    time_repeat = torch.repeat_interleave(t, repeats=nb_disc_theta)\n",
    "    d_theta = 2 * torch.pi / nb_disc_theta\n",
    "    theta_int = torch.linspace(0, 2*torch.pi, nb_disc_theta)\n",
    "    theta_tot = theta_int.repeat(t.shape[0])\n",
    "    pressure_tot = P(theta_tot, time_repeat, ya0, model, param_adim, mean_std, r = 0.025 / 2).reshape(t.shape[0], nb_disc_theta) # (t.shape, nb_disc_theta)\n",
    "    in_sum = pressure_tot * torch.sin(theta_int) * r * d_theta\n",
    "    portance = - torch.sum(in_sum, dim=1)\n",
    "    return portance / (0.5 * param_adim['rho'] * param_adim['V']**2 * 2 * r)"
   ]
  },
  {
   "cell_type": "code",
   "execution_count": 15,
   "metadata": {},
   "outputs": [
    {
     "ename": "NameError",
     "evalue": "name 'mean_std' is not defined",
     "output_type": "error",
     "traceback": [
      "\u001b[0;31m---------------------------------------------------------------------------\u001b[0m",
      "\u001b[0;31mNameError\u001b[0m                                 Traceback (most recent call last)",
      "Cell \u001b[0;32mIn[15], line 3\u001b[0m\n\u001b[1;32m      1\u001b[0m theta_int  \u001b[38;5;241m=\u001b[39m torch\u001b[38;5;241m.\u001b[39mones(\u001b[38;5;241m1\u001b[39m) \u001b[38;5;241m*\u001b[39m \u001b[38;5;241m3\u001b[39m\u001b[38;5;241m*\u001b[39m torch\u001b[38;5;241m.\u001b[39mpi \u001b[38;5;241m/\u001b[39m\u001b[38;5;241m2\u001b[39m\n\u001b[1;32m      2\u001b[0m theta_tot \u001b[38;5;241m=\u001b[39m theta_int\u001b[38;5;241m.\u001b[39mrepeat(t\u001b[38;5;241m.\u001b[39mshape[\u001b[38;5;241m0\u001b[39m])\n\u001b[0;32m----> 3\u001b[0m cl_predict2 \u001b[38;5;241m=\u001b[39m P(theta_tot, t, ya0, model, param_adim, \u001b[43mmean_std\u001b[49m)\n",
      "\u001b[0;31mNameError\u001b[0m: name 'mean_std' is not defined"
     ]
    }
   ],
   "source": [
    "theta_int  = torch.ones(1) * 3* torch.pi /2\n",
    "theta_tot = theta_int.repeat(t.shape[0])\n",
    "cl_predict2 = P(theta_tot, t, ya0, model, param_adim, mean_std)"
   ]
  },
  {
   "cell_type": "code",
   "execution_count": null,
   "metadata": {},
   "outputs": [
    {
     "ename": "NameError",
     "evalue": "name 'mean_std' is not defined",
     "output_type": "error",
     "traceback": [
      "\u001b[0;31m---------------------------------------------------------------------------\u001b[0m",
      "\u001b[0;31mNameError\u001b[0m                                 Traceback (most recent call last)",
      "Cell \u001b[0;32mIn[16], line 1\u001b[0m\n\u001b[0;32m----> 1\u001b[0m cl_predict \u001b[38;5;241m=\u001b[39m piche(t, ya0, model, param_adim, \u001b[43mmean_std\u001b[49m, nb_disc_theta\u001b[38;5;241m=\u001b[39m\u001b[38;5;241m1000\u001b[39m)\n\u001b[1;32m      2\u001b[0m time, cl_true \u001b[38;5;241m=\u001b[39m true_cl(num\u001b[38;5;241m=\u001b[39mnum, case\u001b[38;5;241m=\u001b[39m\u001b[38;5;241m2\u001b[39m, time_init\u001b[38;5;241m=\u001b[39mhyper_param[\u001b[38;5;124m'\u001b[39m\u001b[38;5;124mt_min\u001b[39m\u001b[38;5;124m'\u001b[39m], time_max\u001b[38;5;241m=\u001b[39mhyper_param[\u001b[38;5;124m'\u001b[39m\u001b[38;5;124mt_max\u001b[39m\u001b[38;5;124m'\u001b[39m])\n\u001b[1;32m      3\u001b[0m \u001b[38;5;28;01mwith\u001b[39;00m torch\u001b[38;5;241m.\u001b[39mno_grad():\n",
      "\u001b[0;31mNameError\u001b[0m: name 'mean_std' is not defined"
     ]
    }
   ],
   "source": [
    "cl_predict = piche(t, ya0, model, param_adim, mean_std, nb_disc_theta=1000)\n",
    "time, cl_true = true_cl(num=num, case=2, time_init=hyper_param['t_min'], time_max=hyper_param['t_max'])\n",
    "with torch.no_grad():\n",
    "    plt.plot(t, cl_predict, color = 'blue', label = 'Predict Cl', linewidth=0.8)\n",
    "    plt.plot(t, cl_predict2, label='pressure')\n",
    "    plt.plot(time, cl_true, label = 'True Cl', color='red', linewidth=0.8)\n",
    "    plt.legend()"
   ]
  },
  {
   "cell_type": "code",
   "execution_count": null,
   "metadata": {},
   "outputs": [],
   "source": []
  },
  {
   "cell_type": "markdown",
   "metadata": {},
   "source": [
    "## On essaye d'avoir la différence de phase "
   ]
  },
  {
   "cell_type": "code",
   "execution_count": 17,
   "metadata": {},
   "outputs": [],
   "source": [
    "from scipy.signal import hilbert"
   ]
  },
  {
   "cell_type": "code",
   "execution_count": 18,
   "metadata": {},
   "outputs": [],
   "source": [
    "def find_true_diff_phase(num, case, time_init, time_max, ya0, param_adim):\n",
    "    \"\"\"\n",
    "    Args:\n",
    "        num (int): Le numéro du modèle\n",
    "        case (int): Le numéro du case\n",
    "\n",
    "    Returns:\n",
    "        None:  plot les courbes de Cl\n",
    "    \"\"\"\n",
    "    df = pd.read_csv(f'results_Cl/model_{num}_case_{case}/Cl.csv', index_col=False)\n",
    "    df_modified = df[((df.iloc[:, 2] > time_init) & (df.iloc[:, 2] < time_max))]\n",
    "    time = df_modified.iloc[:, 2].to_numpy()\n",
    "    cl = df_modified.iloc[:, 1].to_numpy()\n",
    "    plt.plot(time, cl, label = 'True Cl', color='blue', linewidth=0.8)\n",
    "    return None"
   ]
  },
  {
   "cell_type": "code",
   "execution_count": 19,
   "metadata": {},
   "outputs": [],
   "source": [
    "def diff_phase_predict(cl, ya0, hyper_param, t):\n",
    "    \"\"\"\n",
    "    Args:\n",
    "        cl (numpy.array): cl a différents temps\n",
    "        ya0 (float) : la valeur d'amplitude pour estimer notre Cl\n",
    "        hyper_param (dict): les hyperparamètres\n",
    "\n",
    "    Returns:\n",
    "        DphaseH (np.array): la valeur de la différence de phase en fonction du temps\n",
    "        mean (float): la moyenne de différence de phase du signal cl avec la vitesse du cylindre\n",
    "        rms (float): la std de la différence de phase du signal cl avec la vitesse du cylindre\n",
    "    \"\"\"\n",
    "    w_0 = (hyper_param[\"H\"] / hyper_param[\"m\"]) ** 0.5\n",
    "    analytic_signal1 = hilbert(cl)\n",
    "    instantaneous_phase1 = np.unwrap(np.angle(analytic_signal1))\n",
    "    cylinder_velocity = np.sin(w_0 * t)\n",
    "    instantaneous_phase2 = np.unwrap(np.angle(hilbert(cylinder_velocity)))\n",
    "\n",
    "    DphaseH = instantaneous_phase2-instantaneous_phase1\n",
    "    mean = np.mean(DphaseH)\n",
    "    rms = np.std(DphaseH)\n",
    "    return DphaseH, mean, rms\n",
    "\n",
    "    "
   ]
  },
  {
   "cell_type": "code",
   "execution_count": 20,
   "metadata": {},
   "outputs": [
    {
     "ename": "NameError",
     "evalue": "name 'mean_std' is not defined",
     "output_type": "error",
     "traceback": [
      "\u001b[0;31m---------------------------------------------------------------------------\u001b[0m",
      "\u001b[0;31mNameError\u001b[0m                                 Traceback (most recent call last)",
      "Cell \u001b[0;32mIn[20], line 1\u001b[0m\n\u001b[0;32m----> 1\u001b[0m cl \u001b[38;5;241m=\u001b[39m predict_cl(t\u001b[38;5;241m=\u001b[39mt,ya0\u001b[38;5;241m=\u001b[39m\u001b[38;5;241m0.0025\u001b[39m, model\u001b[38;5;241m=\u001b[39mmodel, param_adim\u001b[38;5;241m=\u001b[39mparam_adim, mean_std\u001b[38;5;241m=\u001b[39m\u001b[43mmean_std\u001b[49m, nb_disc_theta\u001b[38;5;241m=\u001b[39m\u001b[38;5;241m1000\u001b[39m)\u001b[38;5;241m.\u001b[39mdetach()\u001b[38;5;241m.\u001b[39mnumpy()\n\u001b[1;32m      2\u001b[0m DphaseH, mean, rms \u001b[38;5;241m=\u001b[39m diff_phase_predict(cl, ya0, hyper_param, t\u001b[38;5;241m.\u001b[39mdetach()\u001b[38;5;241m.\u001b[39mnumpy())\n",
      "\u001b[0;31mNameError\u001b[0m: name 'mean_std' is not defined"
     ]
    }
   ],
   "source": [
    "cl = predict_cl(t=t,ya0=0.0025, model=model, param_adim=param_adim, mean_std=mean_std, nb_disc_theta=1000).detach().numpy()\n",
    "DphaseH, mean, rms = diff_phase_predict(cl, ya0, hyper_param, t.detach().numpy())\n"
   ]
  },
  {
   "cell_type": "code",
   "execution_count": 21,
   "metadata": {},
   "outputs": [
    {
     "ename": "NameError",
     "evalue": "name 'true_cl' is not defined",
     "output_type": "error",
     "traceback": [
      "\u001b[0;31m---------------------------------------------------------------------------\u001b[0m",
      "\u001b[0;31mNameError\u001b[0m                                 Traceback (most recent call last)",
      "Cell \u001b[0;32mIn[21], line 1\u001b[0m\n\u001b[0;32m----> 1\u001b[0m time, cl_true \u001b[38;5;241m=\u001b[39m \u001b[43mtrue_cl\u001b[49m(num\u001b[38;5;241m=\u001b[39m\u001b[38;5;241m2\u001b[39m, case\u001b[38;5;241m=\u001b[39m\u001b[38;5;241m2\u001b[39m, time_init\u001b[38;5;241m=\u001b[39mhyper_param[\u001b[38;5;124m'\u001b[39m\u001b[38;5;124mt_min\u001b[39m\u001b[38;5;124m'\u001b[39m], time_max\u001b[38;5;241m=\u001b[39mhyper_param[\u001b[38;5;124m'\u001b[39m\u001b[38;5;124mt_max\u001b[39m\u001b[38;5;124m'\u001b[39m])\n\u001b[1;32m      2\u001b[0m DphaseH2, mean2, rms2 \u001b[38;5;241m=\u001b[39m diff_phase_predict(cl_true, ya0, hyper_param, t\u001b[38;5;241m=\u001b[39mtime)\n",
      "\u001b[0;31mNameError\u001b[0m: name 'true_cl' is not defined"
     ]
    }
   ],
   "source": [
    "time, cl_true = true_cl(num=2, case=2, time_init=hyper_param['t_min'], time_max=hyper_param['t_max'])\n",
    "DphaseH2, mean2, rms2 = diff_phase_predict(cl_true, ya0, hyper_param, t=time)"
   ]
  },
  {
   "cell_type": "code",
   "execution_count": 22,
   "metadata": {},
   "outputs": [
    {
     "ename": "NameError",
     "evalue": "name 'mean2' is not defined",
     "output_type": "error",
     "traceback": [
      "\u001b[0;31m---------------------------------------------------------------------------\u001b[0m",
      "\u001b[0;31mNameError\u001b[0m                                 Traceback (most recent call last)",
      "Cell \u001b[0;32mIn[22], line 1\u001b[0m\n\u001b[0;32m----> 1\u001b[0m \u001b[43mmean2\u001b[49m\n",
      "\u001b[0;31mNameError\u001b[0m: name 'mean2' is not defined"
     ]
    }
   ],
   "source": [
    "mean2"
   ]
  },
  {
   "cell_type": "code",
   "execution_count": 23,
   "metadata": {},
   "outputs": [
    {
     "ename": "NameError",
     "evalue": "name 'DphaseH2' is not defined",
     "output_type": "error",
     "traceback": [
      "\u001b[0;31m---------------------------------------------------------------------------\u001b[0m",
      "\u001b[0;31mNameError\u001b[0m                                 Traceback (most recent call last)",
      "Cell \u001b[0;32mIn[23], line 1\u001b[0m\n\u001b[0;32m----> 1\u001b[0m plt\u001b[38;5;241m.\u001b[39mplot(time, \u001b[43mDphaseH2\u001b[49m)\n\u001b[1;32m      2\u001b[0m plt\u001b[38;5;241m.\u001b[39mplot(t, DphaseH)\n",
      "\u001b[0;31mNameError\u001b[0m: name 'DphaseH2' is not defined"
     ]
    }
   ],
   "source": [
    "plt.plot(time, DphaseH2)\n",
    "plt.plot(t, DphaseH)"
   ]
  },
  {
   "cell_type": "code",
   "execution_count": 24,
   "metadata": {},
   "outputs": [
    {
     "ename": "NameError",
     "evalue": "name 'mean' is not defined",
     "output_type": "error",
     "traceback": [
      "\u001b[0;31m---------------------------------------------------------------------------\u001b[0m",
      "\u001b[0;31mNameError\u001b[0m                                 Traceback (most recent call last)",
      "Cell \u001b[0;32mIn[24], line 1\u001b[0m\n\u001b[0;32m----> 1\u001b[0m \u001b[43mmean\u001b[49m\n",
      "\u001b[0;31mNameError\u001b[0m: name 'mean' is not defined"
     ]
    }
   ],
   "source": [
    "mean"
   ]
  },
  {
   "cell_type": "code",
   "execution_count": 25,
   "metadata": {},
   "outputs": [
    {
     "ename": "NameError",
     "evalue": "name 'hyper' is not defined",
     "output_type": "error",
     "traceback": [
      "\u001b[0;31m---------------------------------------------------------------------------\u001b[0m",
      "\u001b[0;31mNameError\u001b[0m                                 Traceback (most recent call last)",
      "Cell \u001b[0;32mIn[25], line 1\u001b[0m\n\u001b[0;32m----> 1\u001b[0m \u001b[43mhyper\u001b[49m\n",
      "\u001b[0;31mNameError\u001b[0m: name 'hyper' is not defined"
     ]
    }
   ],
   "source": [
    "hyper"
   ]
  },
  {
   "cell_type": "code",
   "execution_count": 136,
   "metadata": {},
   "outputs": [
    {
     "name": "stderr",
     "output_type": "stream",
     "text": [
      "/tmp/ipykernel_4236/2140280397.py:1: DeprecationWarning: __array_wrap__ must accept context and return_scalar arguments (positionally) in the future. (Deprecated NumPy 2.0)\n",
      "  cl_piche = np.sin(w_0 * t + 0.3)\n"
     ]
    }
   ],
   "source": [
    "cl_piche = np.sin(w_0 * t + 0.3)"
   ]
  },
  {
   "cell_type": "code",
   "execution_count": 140,
   "metadata": {},
   "outputs": [],
   "source": [
    "DphaseH, mean, rms = diff_phase_predict(cl_piche, ya0, hyper_param, t.detach().numpy())"
   ]
  },
  {
   "cell_type": "code",
   "execution_count": 141,
   "metadata": {},
   "outputs": [
    {
     "data": {
      "text/plain": [
       "np.float32(-0.29166788)"
      ]
     },
     "execution_count": 141,
     "metadata": {},
     "output_type": "execute_result"
    }
   ],
   "source": [
    "mean"
   ]
  },
  {
   "cell_type": "code",
   "execution_count": 142,
   "metadata": {},
   "outputs": [
    {
     "data": {
      "text/plain": [
       "np.float32(0.01179105)"
      ]
     },
     "execution_count": 142,
     "metadata": {},
     "output_type": "execute_result"
    }
   ],
   "source": [
    "rms"
   ]
  },
  {
   "cell_type": "code",
   "execution_count": 143,
   "metadata": {},
   "outputs": [
    {
     "data": {
      "text/plain": [
       "[<matplotlib.lines.Line2D at 0x7fbfac92ee10>]"
      ]
     },
     "execution_count": 143,
     "metadata": {},
     "output_type": "execute_result"
    },
    {
     "data": {
      "image/png": "[encoded data removed]",
      "text/plain": [
       "<Figure size 640x480 with 1 Axes>"
      ]
     },
     "metadata": {},
     "output_type": "display_data"
    }
   ],
   "source": [
    "plt.plot(t.detach().numpy(), DphaseH)"
   ]
  },
  {
   "cell_type": "code",
   "execution_count": 99,
   "metadata": {},
   "outputs": [
    {
     "data": {
      "text/plain": [
       "np.float32(0.01179105)"
      ]
     },
     "execution_count": 99,
     "metadata": {},
     "output_type": "execute_result"
    }
   ],
   "source": [
    "rms"
   ]
  },
  {
   "cell_type": "code",
   "execution_count": 101,
   "metadata": {},
   "outputs": [
    {
     "data": {
      "text/plain": [
       "np.float32(-0.29166788)"
      ]
     },
     "execution_count": 101,
     "metadata": {},
     "output_type": "execute_result"
    }
   ],
   "source": [
    "mean"
   ]
  },
  {
   "cell_type": "code",
   "execution_count": 113,
   "metadata": {},
   "outputs": [
    {
     "data": {
      "text/plain": [
       "np.float32(0.0)"
      ]
     },
     "execution_count": 113,
     "metadata": {},
     "output_type": "execute_result"
    }
   ],
   "source": [
    "mean"
   ]
  },
  {
   "cell_type": "code",
   "execution_count": 112,
   "metadata": {},
   "outputs": [
    {
     "data": {
      "text/plain": [
       "[<matplotlib.lines.Line2D at 0x7fbfdce5d4c0>]"
      ]
     },
     "execution_count": 112,
     "metadata": {},
     "output_type": "execute_result"
    },
    {
     "data": {
      "image/png": "[encoded data removed]",
      "text/plain": [
       "<Figure size 640x480 with 1 Axes>"
      ]
     },
     "metadata": {},
     "output_type": "display_data"
    }
   ],
   "source": [
    "plt.plot(t.detach().numpy(), DphaseH)\n"
   ]
  },
  {
   "cell_type": "code",
   "execution_count": 79,
   "metadata": {},
   "outputs": [
    {
     "data": {
      "text/plain": [
       "np.float32(-6.987098)"
      ]
     },
     "execution_count": 79,
     "metadata": {},
     "output_type": "execute_result"
    }
   ],
   "source": [
    "mean"
   ]
  },
  {
   "cell_type": "code",
   "execution_count": 81,
   "metadata": {},
   "outputs": [
    {
     "data": {
      "text/plain": [
       "np.float32(3.6488428)"
      ]
     },
     "execution_count": 81,
     "metadata": {},
     "output_type": "execute_result"
    }
   ],
   "source": [
    "rms"
   ]
  },
  {
   "cell_type": "code",
   "execution_count": 80,
   "metadata": {},
   "outputs": [
    {
     "data": {
      "text/plain": [
       "np.float64(-6.622432046880976)"
      ]
     },
     "execution_count": 80,
     "metadata": {},
     "output_type": "execute_result"
    }
   ],
   "source": [
    "mean2"
   ]
  },
  {
   "cell_type": "code",
   "execution_count": 82,
   "metadata": {},
   "outputs": [
    {
     "data": {
      "text/plain": [
       "np.float64(3.7214993615768397)"
      ]
     },
     "execution_count": 82,
     "metadata": {},
     "output_type": "execute_result"
    }
   ],
   "source": [
    "rms2"
   ]
  },
  {
   "cell_type": "code",
   "execution_count": null,
   "metadata": {},
   "outputs": [],
   "source": [
    "cl2 = "
   ]
  },
  {
   "cell_type": "code",
   "execution_count": null,
   "metadata": {},
   "outputs": [],
   "source": [
    "cl_true = num=2"
   ]
  },
  {
   "cell_type": "code",
   "execution_count": 18,
   "metadata": {},
   "outputs": [
    {
     "data": {
      "text/plain": [
       "[<matplotlib.lines.Line2D at 0x7fa0a09383e0>]"
      ]
     },
     "execution_count": 18,
     "metadata": {},
     "output_type": "execute_result"
    },
    {
     "data": {
      "image/png": "[encoded data removed]",
      "text/plain": [
       "<Figure size 640x480 with 1 Axes>"
      ]
     },
     "metadata": {},
     "output_type": "display_data"
    }
   ],
   "source": [
    "plt.plot(t, DphaseH)"
   ]
  },
  {
   "cell_type": "code",
   "execution_count": 19,
   "metadata": {},
   "outputs": [
    {
     "data": {
      "text/plain": [
       "np.float32(-7.0628138)"
      ]
     },
     "execution_count": 19,
     "metadata": {},
     "output_type": "execute_result"
    }
   ],
   "source": [
    "mean"
   ]
  },
  {
   "cell_type": "code",
   "execution_count": 20,
   "metadata": {},
   "outputs": [
    {
     "data": {
      "text/plain": [
       "np.float32(4.174604)"
      ]
     },
     "execution_count": 20,
     "metadata": {},
     "output_type": "execute_result"
    }
   ],
   "source": [
    "rms"
   ]
  },
  {
   "cell_type": "code",
   "execution_count": 93,
   "metadata": {},
   "outputs": [],
   "source": [
    "w_0 = (hyper_param[\"H\"] / hyper_param[\"m\"]) ** 0.5\n",
    "analytic_signal1 = hilbert(cl.detach().numpy())\n",
    "instantaneous_phase1 = np.unwrap(np.angle(analytic_signal1))\n",
    "\n",
    "cylinder_velocity = - ya0 * w_0 * np.sin(w_0 * t.detach().numpy())\n",
    "instantaneous_phase2 = np.unwrap(np.angle(cylinder_velocity))\n",
    "\n",
    "DphaseH = instantaneous_phase2-instantaneous_phase1\n",
    "mean = np.mean(DphaseH)\n",
    "rms = np.std(DphaseH)"
   ]
  },
  {
   "cell_type": "code",
   "execution_count": 94,
   "metadata": {},
   "outputs": [
    {
     "data": {
      "text/plain": [
       "np.float32(-7.060839)"
      ]
     },
     "execution_count": 94,
     "metadata": {},
     "output_type": "execute_result"
    }
   ],
   "source": [
    "mean"
   ]
  },
  {
   "cell_type": "code",
   "execution_count": 96,
   "metadata": {},
   "outputs": [
    {
     "data": {
      "text/plain": [
       "np.float32(4.164276)"
      ]
     },
     "execution_count": 96,
     "metadata": {},
     "output_type": "execute_result"
    }
   ],
   "source": [
    "rms"
   ]
  },
  {
   "cell_type": "code",
   "execution_count": null,
   "metadata": {},
   "outputs": [
    {
     "data": {
      "text/plain": [
       "[<matplotlib.lines.Line2D at 0x7f27b135d070>]"
      ]
     },
     "execution_count": 97,
     "metadata": {},
     "output_type": "execute_result"
    },
    {
     "data": {
      "image/png": "[encoded data removed]",
      "text/plain": [
       "<Figure size 640x480 with 1 Axes>"
      ]
     },
     "metadata": {},
     "output_type": "display_data"
    }
   ],
   "source": [
    "plt.plot(t, DphaseH)"
   ]
  },
  {
   "cell_type": "code",
   "execution_count": 88,
   "metadata": {},
   "outputs": [
    {
     "data": {
      "text/plain": [
       "np.float32(4.0255566)"
      ]
     },
     "execution_count": 88,
     "metadata": {},
     "output_type": "execute_result"
    }
   ],
   "source": [
    "rms"
   ]
  },
  {
   "cell_type": "code",
   "execution_count": 80,
   "metadata": {},
   "outputs": [
    {
     "data": {
      "text/plain": [
       "12.121203194360733"
      ]
     },
     "execution_count": 80,
     "metadata": {},
     "output_type": "execute_result"
    }
   ],
   "source": [
    "w_0"
   ]
  },
  {
   "cell_type": "code",
   "execution_count": null,
   "metadata": {},
   "outputs": [],
   "source": []
  }
 ],
 "metadata": {
  "kernelspec": {
   "display_name": "base",
   "language": "python",
   "name": "python3"
  },
  "language_info": {
   "codemirror_mode": {
    "name": "ipython",
    "version": 3
   },
   "file_extension": ".py",
   "mimetype": "text/x-python",
   "name": "python",
   "nbconvert_exporter": "python",
   "pygments_lexer": "ipython3",
   "version": "3.12.7"
  }
 },
 "nbformat": 4,
 "nbformat_minor": 2
}
